{
 "cells": [
  {
   "cell_type": "code",
   "execution_count": 1,
   "metadata": {},
   "outputs": [
    {
     "name": "stdout",
     "output_type": "stream",
     "text": [
      "Number of cpu :  12\n"
     ]
    }
   ],
   "source": [
    "import warnings\n",
    "warnings.simplefilter(action='ignore',)\n",
    "\n",
    "from qiskit import Aer\n",
    "from qiskit.utils import QuantumInstance\n",
    "from qiskit_machine_learning.kernels import QuantumKernel\n",
    "quantum_instance = QuantumInstance(Aer.get_backend('qasm_simulator'), shots=128)\n",
    "\n",
    "import multiprocessing\n",
    "import multiprocessing as mp\n",
    "from multiprocessing import Queue\n",
    "print(\"Number of cpu : \", multiprocessing.cpu_count())"
   ]
  },
  {
   "cell_type": "code",
   "execution_count": 13,
   "metadata": {},
   "outputs": [
    {
     "data": {
      "image/png": "[encoded data removed]",
      "text/plain": [
       "<Figure size 432x288 with 1 Axes>"
      ]
     },
     "metadata": {},
     "output_type": "display_data"
    }
   ],
   "source": [
    "import numpy as np \n",
    "import pandas as pd\n",
    "import matplotlib.pyplot as plt\n",
    "import matplotlib.colors\n",
    "\n",
    "from time import time\n",
    "from circuit import generate_circuit\n",
    "\n",
    "import seaborn as sns\n",
    "from sklearn import datasets\n",
    "from sklearn.svm import SVC\n",
    "sns.set_style(\"darkgrid\")\n",
    "\n",
    "##### Toy data #####\n",
    "X,y = datasets.make_moons(n_samples=50, noise=0.2, random_state=7)\n",
    "moon_data = pd.DataFrame(dict(x_1=X[:,0], x_2=X[:,1], label=y))\n",
    "\n",
    "sns.scatterplot('x_1', 'x_2', data=moon_data, hue='label')\n",
    "plt.show()\n",
    "\n",
    "from sklearn.model_selection import train_test_split\n",
    "train_x, test_x, train_y, test_y = train_test_split(X, y, random_state = 42,test_size=1/5)"
   ]
  },
  {
   "cell_type": "markdown",
   "metadata": {},
   "source": [
    "##### Parameters"
   ]
  },
  {
   "cell_type": "code",
   "execution_count": 3,
   "metadata": {},
   "outputs": [],
   "source": [
    "QUBIT = 2\n",
    "FEATURE = 2\n",
    "\n",
    "BIT = 5\n",
    "GENE = 12\n",
    "# POPULATION = 10\n",
    "POPULATION = multiprocessing.cpu_count() \n",
    "\n",
    "POOLSIZE = 4\n",
    "OFFSPRINGSIZE = POPULATION - POOLSIZE\n",
    "\n",
    "PROB = 8\n",
    "MUTATION_PROB = PROB/POPULATION\n",
    "\n",
    "GENERATION = 30"
   ]
  },
  {
   "cell_type": "markdown",
   "metadata": {},
   "source": [
    "##### Fitness function\n"
   ]
  },
  {
   "cell_type": "code",
   "execution_count": 4,
   "metadata": {},
   "outputs": [],
   "source": [
    "def cost_func(acc, one, two): \n",
    "    \n",
    "    if acc == 0.0: acc = 0.01\n",
    "\n",
    "    gate_size = one + 2*two\n",
    "    fit = gate_size + 20 / acc**2 - 20\n",
    "\n",
    "    return round(fit,1)"
   ]
  },
  {
   "cell_type": "code",
   "execution_count": 5,
   "metadata": {},
   "outputs": [],
   "source": [
    "def calculate_fitness(pop, population, train_x, train_y, test_x, test_y):\n",
    "    FITNESS = []\n",
    "    SCORE, ONE, TWO = [], [], []\n",
    "\n",
    "    for i in range(population):\n",
    "        qc_i, one_i, two_i = generate_circuit(pop[i], QUBIT, FEATURE)\n",
    "        kernel = QuantumKernel(feature_map=qc_i, quantum_instance=quantum_instance,)\n",
    "        model = SVC(kernel=kernel.evaluate)\n",
    "        model.fit(train_x, train_y)\n",
    "        score = model.score(test_x, test_y)\n",
    "        \n",
    "        SCORE.append(score)\n",
    "        ONE.append(one_i)\n",
    "        TWO.append(two_i)\n",
    "\n",
    "    for i in range(population):\n",
    "        fit = cost_func(SCORE[i], ONE[i], TWO[i])\n",
    "        FITNESS.append(fit)\n",
    "    \n",
    "    return SCORE, FITNESS"
   ]
  },
  {
   "cell_type": "markdown",
   "metadata": {},
   "source": [
    "#### Genetic Algorithm"
   ]
  },
  {
   "cell_type": "code",
   "execution_count": 6,
   "metadata": {},
   "outputs": [
    {
     "name": "stdout",
     "output_type": "stream",
     "text": [
      "\n",
      "Generation: 1 , Cost time: 18.204374 s\n",
      "Accuracy: [0.7, 0.6, 0.9, 1.0, 0.7, 0.9, 0.8, 0.9, 0.7, 0.8, 0.8, 0.7]\n",
      "Fitness: [28.8, 43.6, 13.7, 11.0, 26.8, 13.7, 22.2, 13.7, 32.8, 21.2, 19.2, 31.8]\n",
      "\n",
      "Generation: 2 , Cost time: 36.683040 s\n",
      "Accuracy: [1.0, 0.9, 0.9, 0.8, 0.7, 0.8, 0.6, 0.6, 0.8, 0.9, 0.7, 0.7]\n",
      "Fitness: [11.0, 13.7, 13.7, 20.2, 31.8, 22.2, 45.6, 44.6, 20.2, 15.7, 32.8, 30.8]\n",
      "\n",
      "Generation: 3 , Cost time: 55.422433 s\n",
      "Accuracy: [1.0, 0.9, 0.9, 0.9, 0.8, 0.8, 0.9, 0.6, 0.2, 0.9, 0.8, 0.7]\n",
      "Fitness: [11.0, 13.7, 13.7, 15.7, 21.2, 19.2, 13.7, 46.6, 486.0, 14.7, 19.2, 30.8]\n",
      "\n",
      "Generation: 4 , Cost time: 74.778271 s\n",
      "Accuracy: [1.0, 0.9, 0.9, 0.9, 0.7, 1.0, 0.6, 0.8, 0.8, 0.4, 0.8, 0.7]\n",
      "Fitness: [11.0, 13.7, 13.7, 13.7, 27.8, 11.0, 46.6, 19.2, 24.2, 112.0, 21.2, 30.8]\n",
      "\n",
      "Generation: 5 , Cost time: 93.946510 s\n",
      "Accuracy: [1.0, 1.0, 0.9, 0.9, 0.8, 0.7, 1.0, 0.9, 0.9, 0.6, 0.7, 0.2]\n",
      "Fitness: [11.0, 11.0, 13.7, 13.7, 23.2, 27.8, 10.0, 15.7, 15.7, 45.6, 30.8, 489.0]\n",
      "\n",
      "Generation: 6 , Cost time: 112.734549 s\n",
      "Accuracy: [1.0, 1.0, 1.0, 0.9, 0.8, 0.7, 0.3, 0.7, 0.7, 0.5, 0.6, 0.9]\n",
      "Fitness: [10.0, 11.0, 11.0, 13.7, 21.2, 28.8, 213.2, 27.8, 28.8, 73.0, 43.6, 16.7]\n",
      "\n",
      "Generation: 7 , Cost time: 132.426855 s\n",
      "Accuracy: [1.0, 1.0, 0.9, 0.8, 0.9, 0.7, 0.8, 0.9, 0.7, 0.7, 0.9, 0.9]\n",
      "Fitness: [10.0, 11.0, 15.7, 20.2, 13.7, 29.8, 19.2, 14.7, 27.8, 29.8, 15.7, 18.7]\n",
      "\n",
      "Generation: 8 , Cost time: 151.989788 s\n",
      "Accuracy: [1.0, 0.9, 0.9, 0.9, 0.7, 0.8, 0.9, 0.5, 0.7, 0.8, 0.7, 0.9]\n",
      "Fitness: [10.0, 15.7, 13.7, 14.7, 30.8, 19.2, 18.7, 69.0, 30.8, 20.2, 30.8, 16.7]\n",
      "\n",
      "Generation: 9 , Cost time: 171.429444 s\n",
      "Accuracy: [1.0, 1.0, 0.9, 0.9, 0.9, 0.9, 0.6, 0.8, 0.9, 0.6, 0.9, 0.9]\n",
      "Fitness: [10.0, 9.0, 14.7, 15.7, 13.7, 15.7, 44.6, 21.2, 12.7, 43.6, 16.7, 14.7]\n",
      "\n",
      "Generation: 10 , Cost time: 190.155330 s\n",
      "Accuracy: [0.9, 1.0, 0.9, 0.9, 0.7, 1.0, 0.6, 0.6, 0.9, 0.4, 0.7, 0.7]\n",
      "Fitness: [13.7, 10.0, 12.7, 13.7, 24.8, 9.0, 44.6, 44.6, 12.7, 115.0, 31.8, 27.8]\n",
      "\n",
      "Generation: 11 , Cost time: 208.842401 s\n",
      "Accuracy: [1.0, 1.0, 0.9, 0.9, 0.9, 0.7, 0.7, 0.8, 0.6, 0.7, 0.9, 0.7]\n",
      "Fitness: [9.0, 10.0, 12.7, 12.7, 14.7, 29.8, 31.8, 18.2, 44.6, 26.8, 11.7, 27.8]\n",
      "\n",
      "Generation: 12 , Cost time: 228.015552 s\n",
      "Accuracy: [1.0, 1.0, 0.9, 0.9, 0.7, 0.7, 0.9, 1.0, 0.7, 0.8, 0.7, 0.8]\n",
      "Fitness: [9.0, 10.0, 11.7, 12.7, 29.8, 32.8, 13.7, 10.0, 29.8, 17.2, 35.8, 19.2]\n",
      "\n",
      "Generation: 13 , Cost time: 246.276706 s\n",
      "Accuracy: [0.9, 1.0, 0.9, 0.9, 0.6, 0.7, 1.0, 0.7, 0.8, 0.7, 0.8, 0.6]\n",
      "Fitness: [13.7, 10.0, 14.7, 11.7, 48.6, 28.8, 8.0, 31.8, 18.2, 32.8, 19.2, 42.6]\n",
      "\n",
      "Generation: 14 , Cost time: 265.736870 s\n",
      "Accuracy: [0.8, 1.0, 0.9, 0.9, 0.6, 0.8, 0.6, 0.7, 0.9, 0.5, 0.9, 0.7]\n",
      "Fitness: [19.2, 10.0, 11.7, 13.7, 42.6, 22.2, 46.6, 27.8, 14.7, 71.0, 12.7, 30.8]\n",
      "\n",
      "Generation: 15 , Cost time: 283.677038 s\n",
      "Accuracy: [1.0, 0.9, 0.9, 1.0, 0.7, 0.7, 0.7, 0.8, 0.7, 0.9, 0.5, 0.2]\n",
      "Fitness: [10.0, 11.7, 12.7, 9.0, 29.8, 28.8, 31.8, 18.2, 30.8, 18.7, 68.0, 486.0]\n",
      "\n",
      "Generation: 16 , Cost time: 303.891504 s\n",
      "Accuracy: [1.0, 0.9, 0.9, 0.9, 0.7, 0.6, 0.7, 1.0, 0.6, 1.0, 0.8, 0.7]\n",
      "Fitness: [9.0, 14.7, 11.7, 12.7, 29.8, 46.6, 32.8, 11.0, 44.6, 7.0, 19.2, 31.8]\n",
      "\n",
      "Generation: 17 , Cost time: 322.645871 s\n",
      "Accuracy: [1.0, 1.0, 0.9, 0.9, 0.7, 0.9, 0.6, 1.0, 0.9, 0.8, 0.7, 0.4]\n",
      "Fitness: [7.0, 9.0, 15.7, 11.7, 33.8, 14.7, 45.6, 8.0, 11.7, 18.2, 32.8, 110.0]\n",
      "\n",
      "Generation: 18 , Cost time: 341.945693 s\n",
      "Accuracy: [1.0, 1.0, 0.9, 0.9, 0.8, 1.0, 0.9, 0.6, 0.8, 0.9, 0.8, 0.9]\n",
      "Fitness: [7.0, 8.0, 13.7, 11.7, 19.2, 8.0, 14.7, 41.6, 19.2, 10.7, 21.2, 10.7]\n",
      "\n",
      "Generation: 19 , Cost time: 359.497796 s\n",
      "Accuracy: [1.0, 1.0, 1.0, 0.7, 0.2, 0.9, 0.7, 1.0, 1.0, 0.7, 0.9, 0.9]\n",
      "Fitness: [7.0, 8.0, 8.0, 26.8, 486.0, 9.7, 28.8, 6.0, 8.0, 29.8, 12.7, 14.7]\n",
      "\n",
      "Generation: 20 , Cost time: 376.172301 s\n",
      "Accuracy: [1.0, 1.0, 0.9, 1.0, 0.7, 0.7, 0.3, 0.7, 0.6, 0.9, 1.0, 0.6]\n",
      "Fitness: [6.0, 7.0, 12.7, 8.0, 27.8, 27.8, 209.2, 30.8, 43.6, 9.7, 5.0, 43.6]\n",
      "\n",
      "Generation: 21 , Cost time: 393.531720 s\n",
      "Accuracy: [1.0, 1.0, 1.0, 1.0, 1.0, 0.6, 1.0, 0.8, 0.6, 0.7, 0.8, 0.6]\n",
      "Fitness: [5.0, 6.0, 7.0, 8.0, 8.0, 40.6, 5.0, 18.2, 45.6, 29.8, 18.2, 44.6]\n",
      "\n",
      "Generation: 22 , Cost time: 411.314708 s\n",
      "Accuracy: [1.0, 1.0, 1.0, 0.9, 0.6, 0.4, 0.9, 0.7, 0.7, 0.7, 0.9, 0.6]\n",
      "Fitness: [5.0, 5.0, 6.0, 11.7, 42.6, 112.0, 8.7, 27.8, 27.8, 24.8, 12.7, 40.6]\n",
      "\n",
      "Generation: 23 , Cost time: 428.286847 s\n",
      "Accuracy: [1.0, 1.0, 1.0, 0.9, 0.7, 0.8, 1.0, 1.0, 0.4, 0.6, 0.9, 0.7]\n",
      "Fitness: [5.0, 5.0, 6.0, 8.7, 25.8, 16.2, 6.0, 6.0, 112.0, 41.6, 8.7, 26.8]\n",
      "\n",
      "Generation: 24 , Cost time: 444.282953 s\n",
      "Accuracy: [1.0, 1.0, 1.0, 1.0, 0.9, 0.7, 0.6, 0.6, 0.8, 0.2, 1.0, 0.6]\n",
      "Fitness: [5.0, 5.0, 6.0, 6.0, 8.7, 28.8, 41.6, 39.6, 19.2, 482.0, 7.0, 40.6]\n",
      "\n",
      "Generation: 25 , Cost time: 461.838841 s\n",
      "Accuracy: [1.0, 1.0, 1.0, 1.0, 0.9, 0.8, 0.8, 0.8, 0.6, 0.7, 0.8, 0.7]\n",
      "Fitness: [5.0, 5.0, 6.0, 6.0, 10.7, 19.2, 21.2, 17.2, 42.6, 26.8, 17.2, 28.8]\n",
      "\n",
      "Generation: 26 , Cost time: 478.295136 s\n",
      "Accuracy: [1.0, 1.0, 1.0, 1.0, 0.9, 1.0, 0.3, 0.7, 0.9, 0.8, 0.8, 0.7]\n",
      "Fitness: [5.0, 5.0, 6.0, 6.0, 8.7, 7.0, 208.2, 27.8, 9.7, 19.2, 20.2, 26.8]\n",
      "\n",
      "Generation: 27 , Cost time: 496.167633 s\n",
      "Accuracy: [1.0, 1.0, 1.0, 1.0, 0.7, 0.5, 0.7, 0.9, 1.0, 0.7, 0.5, 0.8]\n",
      "Fitness: [5.0, 5.0, 6.0, 6.0, 25.8, 65.0, 29.8, 9.7, 7.0, 26.8, 67.0, 18.2]\n",
      "\n",
      "Generation: 28 , Cost time: 512.755729 s\n",
      "Accuracy: [1.0, 1.0, 1.0, 1.0, 0.6, 0.6, 0.7, 1.0, 0.8, 1.0, 1.0, 0.6]\n",
      "Fitness: [5.0, 5.0, 6.0, 6.0, 40.6, 41.6, 28.8, 8.0, 18.2, 6.0, 4.0, 42.6]\n",
      "\n",
      "Generation: 29 , Cost time: 529.560510 s\n",
      "Accuracy: [0.9, 1.0, 1.0, 1.0, 1.0, 0.8, 0.6, 0.6, 0.7, 0.6, 0.6, 0.6]\n",
      "Fitness: [8.7, 5.0, 5.0, 6.0, 5.0, 19.2, 41.6, 40.6, 25.8, 44.6, 41.6, 42.6]\n",
      "\n",
      "Generation: 30 , Cost time: 546.381742 s\n",
      "Accuracy: [1.0, 1.0, 1.0, 1.0, 1.0, 0.8, 0.9, 1.0, 0.8, 0.7, 1.0, 0.9]\n",
      "Fitness: [5.0, 5.0, 5.0, 6.0, 7.0, 18.2, 11.7, 7.0, 17.2, 25.8, 7.0, 10.7]\n"
     ]
    }
   ],
   "source": [
    "pop = []\n",
    "\n",
    "for i in range(POPULATION):\n",
    "    genes = np.random.randint(2, size=(GENE,BIT))\n",
    "    pop.append(genes)\n",
    "    \n",
    "def task(i, pop, q):\n",
    "    qc_i, one_i, two_i = generate_circuit(pop[i], QUBIT, FEATURE)\n",
    "    kernel = QuantumKernel(feature_map=qc_i, quantum_instance=quantum_instance,)\n",
    "    model = SVC(kernel=kernel.evaluate)\n",
    "    model.fit(train_x, train_y)\n",
    "    score = model.score(test_x, test_y)\n",
    "    q.put([score, one_i, two_i])\n",
    "    \n",
    "start_time = time()\n",
    "for g in range(GENERATION):\n",
    "\n",
    "    ##### Don't use if you don't have multiple CPU #####\n",
    "    inputs = range(POPULATION)\n",
    "    process_list= []\n",
    "    q_list = [Queue() for i in range(len(inputs))]\n",
    "    RESULt = []\n",
    "\n",
    "    for i in inputs:\n",
    "        process_list.append(mp.Process(target = task, args = (i, pop,  q_list[i])))\n",
    "        process_list[-1].start()\n",
    "\n",
    "    for i in inputs:\n",
    "        process_list[i].join()\n",
    "\n",
    "    for q in q_list:\n",
    "        RESULt.append(q.get())\n",
    "\n",
    "    FITNESS = []\n",
    "    SCORE, ONE, TWO = [], [], []\n",
    "\n",
    "    for i in range(POPULATION):\n",
    "        SCORE.append(RESULt[i][0])\n",
    "        ONE.append(RESULt[i][1])\n",
    "        TWO.append(RESULt[i][2])\n",
    "\n",
    "    for i in range(POPULATION):\n",
    "        fit = cost_func(SCORE[i], ONE[i], TWO[i])\n",
    "        FITNESS.append(fit)     \n",
    "    ##### Don't use if you don't have multiple CPU #####\n",
    "    ##### Run line below instead\n",
    "    \n",
    "    # SCORE, FITNESS = calculate_fitness(pop, POPULATION, train_x, train_y, test_x, test_y)\n",
    "    \n",
    "    end_time = time()\n",
    "\n",
    "    print(\"\\nGeneration:\", g+1,\", Cost time: {:3f} s\".format(end_time-start_time))\n",
    "    print(\"Accuracy:\", SCORE)\n",
    "    print(\"Fitness:\", FITNESS)\n",
    "\n",
    "    if g == GENERATION: break\n",
    "\n",
    "    parents = []\n",
    "    for i in range(POOLSIZE):\n",
    "        FitnessIndex = np.where(FITNESS == min(FITNESS))\n",
    "        parents.append(pop[FitnessIndex[0][0]])\n",
    "        del FITNESS[FitnessIndex[0][0]]\n",
    "        del pop[FitnessIndex[0][0]]\n",
    "\n",
    "\n",
    "    for i in range(OFFSPRINGSIZE):\n",
    "        ll,rr = np.random.randint(POOLSIZE), np.random.randint(POOLSIZE)\n",
    "        parent_left, parent_right = parents[ll], parents[rr]\n",
    "        cross_point = np.random.randint(GENE-1) \n",
    "        offspring = np.concatenate((parent_left[:cross_point],parent_right[cross_point:]), axis=0)\n",
    "\n",
    "        for ii in range(PROB):\n",
    "            mutation_index = np.random.randint(GENE) \n",
    "            mutation_bit = np.random.randint(BIT) \n",
    "            offspring[mutation_index][mutation_bit] = (offspring[mutation_index][mutation_bit]+1)%2\n",
    "\n",
    "        parents.append(offspring)\n",
    "        \n",
    "    pop = parents"
   ]
  },
  {
   "cell_type": "markdown",
   "metadata": {},
   "source": [
    "#### Results"
   ]
  },
  {
   "cell_type": "code",
   "execution_count": 7,
   "metadata": {},
   "outputs": [
    {
     "name": "stdout",
     "output_type": "stream",
     "text": [
      "one gates: 5 \n",
      "two gates: 0\n"
     ]
    },
    {
     "data": {
      "image/png": "[encoded data removed]",
      "text/plain": [
       "<Figure size 327.252x144.48 with 1 Axes>"
      ]
     },
     "execution_count": 7,
     "metadata": {},
     "output_type": "execute_result"
    }
   ],
   "source": [
    "DISPLAY = 1\n",
    "qc_display, one_display, two_display = generate_circuit(pop[DISPLAY-1], QUBIT, FEATURE)\n",
    "print(\"one gates:\",one_display,\"\\ntwo gates:\",two_display)\n",
    "qc_display.draw(output=\"mpl\")"
   ]
  },
  {
   "cell_type": "code",
   "execution_count": 8,
   "metadata": {},
   "outputs": [
    {
     "name": "stdout",
     "output_type": "stream",
     "text": [
      "Quantum kernel acc: 1.0\n"
     ]
    }
   ],
   "source": [
    "ga_kernel = QuantumKernel(feature_map=qc_display, quantum_instance=quantum_instance,)\n",
    "model_ga = SVC(kernel=ga_kernel.evaluate)\n",
    "qsvm = model_ga.fit(train_x, train_y)\n",
    "q_score = model_ga.score(test_x, test_y)\n",
    "\n",
    "print(f'Quantum kernel acc: {q_score}')"
   ]
  },
  {
   "cell_type": "markdown",
   "metadata": {},
   "source": [
    "#### Compare kernels"
   ]
  },
  {
   "cell_type": "code",
   "execution_count": 9,
   "metadata": {},
   "outputs": [],
   "source": [
    "margin = 0.24\n",
    "\n",
    "def make_meshgrid(x, y, h=0.004):\n",
    "    x_min, x_max = x.min() - margin, x.max() + margin\n",
    "    y_min, y_max = y.min() - margin, y.max() + margin\n",
    "    xx, yy = np.meshgrid(np.arange(x_min, x_max, h), np.arange(y_min, y_max, h))\n",
    "    return xx, yy\n",
    "\n",
    "def make_big_meshgrid(x, y, h=0.2): # 0.08\n",
    "    x_min, x_max = x.min() - margin, x.max() + margin\n",
    "    y_min, y_max = y.min() - margin, y.max() + margin\n",
    "    xx, yy = np.meshgrid(np.arange(x_min, x_max, h), np.arange(y_min, y_max, h))\n",
    "    return xx, yy\n",
    "\n",
    "def plot_contours(ax, clf, xx, yy, **params):\n",
    "    Z = clf.predict(np.c_[xx.ravel(), yy.ravel()])\n",
    "    Z = Z.reshape(xx.shape)\n",
    "    out = ax.contourf(xx, yy, Z, **params)\n",
    "    return out\n",
    "\n",
    "X0, X1 = X[:, 0], X[:, 1]\n",
    "\n",
    "xx, yy = make_meshgrid(X0, X1)\n",
    "bbxx, bbyy = make_big_meshgrid(X0, X1)\n",
    "\n",
    "meshgrid_features = np.column_stack((xx.ravel(), yy.ravel()))\n",
    "bbmeshgrid_features = np.column_stack((bbxx.ravel(), bbyy.ravel()))"
   ]
  },
  {
   "cell_type": "code",
   "execution_count": 10,
   "metadata": {},
   "outputs": [
    {
     "data": {
      "image/png": "[encoded data removed]",
      "text/plain": [
       "<Figure size 648x432 with 1 Axes>"
      ]
     },
     "metadata": {
      "needs_background": "light"
     },
     "output_type": "display_data"
    },
    {
     "name": "stdout",
     "output_type": "stream",
     "text": [
      "SVM linear test score: 0.7\n"
     ]
    }
   ],
   "source": [
    "model_svc = SVC(kernel='linear')\n",
    "svc_l = model_svc.fit(train_x, train_y)\n",
    "score = model_svc.score(test_x, test_y)\n",
    "\n",
    "cmap = matplotlib.colors.LinearSegmentedColormap.from_list(\"\", [\"#ADDFFF\",\"#FF8C00\"])\n",
    "meshgrid_colors = svc_l.predict(meshgrid_features)\n",
    "\n",
    "plt.figure(figsize=(9,6))\n",
    "meshgrid_colors = meshgrid_colors.reshape(xx.shape)\n",
    "plt.pcolormesh(xx, yy, meshgrid_colors, cmap=cmap, alpha=0.08)\n",
    "\n",
    "plt.scatter(\n",
    "    X[:, 0][y == 0],\n",
    "    X[:, 1][y == 0],\n",
    "    marker=\"o\",\n",
    "    facecolors=\"#659EC7\",\n",
    "    edgecolors=\"k\",\n",
    "    label=\"-1\",)\n",
    "\n",
    "plt.scatter(\n",
    "    X[:, 0][y == 1],\n",
    "    X[:, 1][y == 1],\n",
    "    marker=\"o\",\n",
    "    facecolors=\"#FFA500\",\n",
    "    edgecolors=\"k\",\n",
    "    label=\"1\",)\n",
    "\n",
    "plt.legend( loc=\"upper left\", borderaxespad=1.0)\n",
    "plt.title(\"Linear kernel\", fontsize=20)\n",
    "plt.show()\n",
    "\n",
    "print(f'SVM linear test score: {score}')"
   ]
  },
  {
   "cell_type": "code",
   "execution_count": 11,
   "metadata": {},
   "outputs": [
    {
     "data": {
      "image/png": "[encoded data removed]",
      "text/plain": [
       "<Figure size 648x432 with 1 Axes>"
      ]
     },
     "metadata": {
      "needs_background": "light"
     },
     "output_type": "display_data"
    },
    {
     "name": "stdout",
     "output_type": "stream",
     "text": [
      "SVM Gaussian test score: 0.8\n"
     ]
    }
   ],
   "source": [
    "model_svc = SVC(kernel='rbf')\n",
    "svc_p = model_svc.fit(train_x, train_y)\n",
    "score = model_svc.score(test_x, test_y)\n",
    "\n",
    "cmap = matplotlib.colors.LinearSegmentedColormap.from_list(\"\", [\"#ADDFFF\",\"#FF8C00\"])\n",
    "meshgrid_colors = svc_p.predict(meshgrid_features)\n",
    "\n",
    "plt.figure(figsize=(9,6))\n",
    "meshgrid_colors = meshgrid_colors.reshape(xx.shape)\n",
    "plt.pcolormesh(xx, yy, meshgrid_colors, cmap=cmap, alpha=0.08)\n",
    "\n",
    "plt.scatter(\n",
    "    X[:, 0][y == 0],\n",
    "    X[:, 1][y == 0],\n",
    "    marker=\"o\",\n",
    "    facecolors=\"#659EC7\",\n",
    "    edgecolors=\"k\",\n",
    "    label=\"-1\",)\n",
    "\n",
    "plt.scatter(\n",
    "    X[:, 0][y == 1],\n",
    "    X[:, 1][y == 1],\n",
    "    marker=\"o\",\n",
    "    facecolors=\"#FFA500\",\n",
    "    edgecolors=\"k\",\n",
    "    label=\"1\",)\n",
    "\n",
    "plt.legend( loc=\"upper left\", borderaxespad=1.0)\n",
    "plt.title(\"Gaussian kernel\", fontsize=20)\n",
    "plt.show()\n",
    "\n",
    "print(f'SVM Gaussian test score: {score}')"
   ]
  },
  {
   "cell_type": "code",
   "execution_count": 12,
   "metadata": {},
   "outputs": [
    {
     "data": {
      "image/png": "[encoded data removed]",
      "text/plain": [
       "<Figure size 648x432 with 1 Axes>"
      ]
     },
     "metadata": {
      "needs_background": "light"
     },
     "output_type": "display_data"
    },
    {
     "name": "stdout",
     "output_type": "stream",
     "text": [
      "Quantum kernel acc: 1.0\n"
     ]
    }
   ],
   "source": [
    "cmap = matplotlib.colors.LinearSegmentedColormap.from_list(\"\", [\"#ADDFFF\",\"#FF8C00\"])\n",
    "meshgrid_colors = qsvm.predict(bbmeshgrid_features)\n",
    "\n",
    "plt.figure(figsize=(9,6))\n",
    "meshgrid_colors = meshgrid_colors.reshape(bbxx.shape)\n",
    "plt.pcolormesh(bbxx, bbyy, meshgrid_colors, cmap=cmap, alpha=0.4)\n",
    "\n",
    "plt.scatter(\n",
    "    X[:, 0][y == 0],\n",
    "    X[:, 1][y == 0],\n",
    "    marker=\"o\",\n",
    "    facecolors=\"#659EC7\",\n",
    "    edgecolors=\"k\",\n",
    "    label=\"-1\",)\n",
    "\n",
    "plt.scatter(\n",
    "    X[:, 0][y == 1],\n",
    "    X[:, 1][y == 1],\n",
    "    marker=\"o\",\n",
    "    facecolors=\"#FFA500\",\n",
    "    edgecolors=\"k\",\n",
    "    label=\"1\",)\n",
    "\n",
    "plt.legend(loc=\"upper left\", borderaxespad=1.0)\n",
    "plt.title(\"Quantum kernel\", fontsize=20)\n",
    "plt.show()\n",
    "\n",
    "print(f'Quantum kernel acc: {q_score}')"
   ]
  }
 ],
 "metadata": {
  "hide_input": false,
  "interpreter": {
   "hash": "73edad4db5a9f1ced759eded5187e19ba30057983a74070309538b6d2bc8cc52"
  },
  "kernelspec": {
   "display_name": "Python 3",
   "language": "python",
   "name": "python3"
  },
  "language_info": {
   "codemirror_mode": {
    "name": "ipython",
    "version": 3
   },
   "file_extension": ".py",
   "mimetype": "text/x-python",
   "name": "python",
   "nbconvert_exporter": "python",
   "pygments_lexer": "ipython3",
   "version": "3.6.7"
  }
 },
 "nbformat": 4,
 "nbformat_minor": 2
}
