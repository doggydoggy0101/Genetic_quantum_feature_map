{
 "cells": [
  {
   "cell_type": "code",
   "execution_count": 1,
   "metadata": {},
   "outputs": [
    {
     "name": "stdout",
     "output_type": "stream",
     "text": [
      "Number of cpu :  12\n"
     ]
    }
   ],
   "source": [
    "import warnings\n",
    "warnings.simplefilter(action='ignore',)\n",
    "\n",
    "import multiprocessing\n",
    "import multiprocessing as mp\n",
    "from time import time\n",
    "from multiprocessing import Queue\n",
    "print(\"Number of cpu : \", multiprocessing.cpu_count())\n",
    "\n",
    "from qiskit import Aer, QuantumCircuit\n",
    "from qiskit.utils import QuantumInstance\n",
    "from qiskit.circuit import ParameterVector\n",
    "from qiskit_machine_learning.kernels import QuantumKernel\n",
    "quantum_instance = QuantumInstance(Aer.get_backend('qasm_simulator'), shots=128)\n",
    "\n",
    "import numpy as np \n",
    "import pandas as pd\n",
    "import matplotlib.pyplot as plt\n",
    "import matplotlib.colors\n",
    "\n",
    "import sys \n",
    "sys.path.append('..')\n",
    "from time import time\n",
    "from circuit_generate import generate_circuit_paper, generate_circuit_2local, generate_circuit_2local_swap\n",
    "\n",
    "import seaborn as sns\n",
    "from sklearn import datasets\n",
    "from sklearn.svm import SVC\n",
    "sns.set_style(\"darkgrid\")"
   ]
  },
  {
   "cell_type": "code",
   "execution_count": 2,
   "metadata": {
    "scrolled": false
   },
   "outputs": [
    {
     "data": {
      "image/png": "[encoded data removed]",
      "text/plain": [
       "<Figure size 576x432 with 1 Axes>"
      ]
     },
     "metadata": {
      "needs_background": "light"
     },
     "output_type": "display_data"
    }
   ],
   "source": [
    "### Moonshape data\n",
    "X,y = datasets.make_moons(n_samples=50, noise=0.2, random_state=7)\n",
    "\n",
    "from sklearn import preprocessing\n",
    "scaler = preprocessing.MinMaxScaler(feature_range=(-1, 1))\n",
    "X = scaler.fit_transform(X)\n",
    "\n",
    "plt.figure(figsize=(8,6))\n",
    "data_df = pd.DataFrame(dict(x_1=X[:,0], x_2=X[:,1], label=y))\n",
    "sns.scatterplot('x_1', 'x_2', data=data_df, hue='label')\n",
    "plt.show()\n",
    "\n",
    "from sklearn.model_selection import train_test_split\n",
    "train_x, test_x, train_y, test_y = train_test_split(X, y, random_state = 10,test_size=1/5)"
   ]
  },
  {
   "cell_type": "markdown",
   "metadata": {},
   "source": [
    "##### Parameter"
   ]
  },
  {
   "cell_type": "code",
   "execution_count": 3,
   "metadata": {},
   "outputs": [],
   "source": [
    "MODE = \"2local\" # paper、2local、2local_swap\n",
    "\n",
    "QUBIT = 2\n",
    "FEATURE = 2\n",
    "BIT = 5 if MODE == \"paper\" else 6\n",
    "\n",
    "GENE = 10\n",
    "POPULATION = multiprocessing.cpu_count() # 12\n",
    "\n",
    "POOLSIZE = 4\n",
    "OFFSPRINGSIZE = POPULATION - POOLSIZE\n",
    "\n",
    "PROB = 8\n",
    "MUTATION_PROB = PROB/GENE\n",
    "\n",
    "GENERATION = 200\n",
    "EARLYSTOP = 20"
   ]
  },
  {
   "cell_type": "markdown",
   "metadata": {},
   "source": [
    "##### Multi-task QSVM"
   ]
  },
  {
   "cell_type": "code",
   "execution_count": 4,
   "metadata": {},
   "outputs": [],
   "source": [
    "def task(i, pop, q, mode):\n",
    "    if mode == \"paper\": qc_i, r_i, h_i, cnot_i = generate_circuit_paper(pop[i], QUBIT, FEATURE)\n",
    "    elif mode == \"2local\": qc_i, r_i, h_i, cnot_i = generate_circuit_2local(pop[i], QUBIT, FEATURE)\n",
    "    elif mode == \"2local_swap\": qc_i, r_i, h_i, cnot_i, swap_i = generate_circuit_2local_swap(pop[i], QUBIT, FEATURE)\n",
    "    kernel = QuantumKernel(feature_map=qc_i, quantum_instance=quantum_instance,)\n",
    "    model = SVC(kernel=kernel.evaluate)\n",
    "    model.fit(train_x, train_y)\n",
    "    score = model.score(test_x, test_y)\n",
    "#     print(\"Score : {:3f}, r_i : {:3d}, h_i : {:3d}, cnot_i : {:3d}\".format(score, r_i, h_i, cnot_i))\n",
    "    if mode == \"paper\": q.put([score, r_i, h_i, cnot_i])\n",
    "    elif mode == \"2local\": q.put([score, r_i, h_i, cnot_i])\n",
    "    elif mode == \"2local_swap\": q.put([score, r_i, h_i, cnot_i, swap_i])"
   ]
  },
  {
   "cell_type": "markdown",
   "metadata": {},
   "source": [
    "##### Pareto front"
   ]
  },
  {
   "cell_type": "code",
   "execution_count": 5,
   "metadata": {},
   "outputs": [],
   "source": [
    "def pareto_front(t_list):\n",
    "    pareto_index = []\n",
    "    tt_list = t_list.copy()\n",
    "    \n",
    "    for j in range(POPULATION):     \n",
    "        min_pareto, min_index = [tt_list[0][0], tt_list[0][1]], 0\n",
    "  \n",
    "        for i in range(POPULATION-j):\n",
    "            if tt_list[i][0] >= min_pareto[0] and tt_list[i][1] <= min_pareto[1]:\n",
    "                min_pareto, min_index = [tt_list[i][0], tt_list[i][1]], i\n",
    "\n",
    "        copy_index = [i for i,val in enumerate(t_list) if val==min_pareto]\n",
    "        for r in copy_index: pareto_index.append(r)\n",
    "        \n",
    "        del tt_list[min_index]\n",
    "  \n",
    "    return pareto_index\n",
    "\n",
    "def cost_gate(r,h,cnot,swap=0): return r+2*h+5*cnot+11*swap"
   ]
  },
  {
   "cell_type": "markdown",
   "metadata": {},
   "source": [
    "##### Iterate"
   ]
  },
  {
   "cell_type": "code",
   "execution_count": 6,
   "metadata": {
    "scrolled": false
   },
   "outputs": [
    {
     "name": "stdout",
     "output_type": "stream",
     "text": [
      "\n",
      "Generation: 1 , Time: 17.43 s\n",
      "Accuracy: [0.6, 0.3, 0.6, 0.6, 0.3, 0.9, 0.6, 0.5, 0.5, 0.5, 0.3, 0.6]\n",
      "Gate cost: [9, 10, 20, 24, 10, 9, 10, 15, 24, 11, 10, 9]\n",
      "\n",
      "Generation: 2 , Time: 35.72 s\n",
      "Accuracy: [0.9, 0.5, 0.6, 0.5, 0.3, 0.6, 0.6, 0.5, 0.4, 0.2, 0.5, 0.4]\n",
      "Gate cost: [9, 9, 9, 10, 8, 11, 8, 8, 13, 8, 10, 8]\n",
      "\n",
      "Generation: 3 , Time: 53.47 s\n",
      "Accuracy: [0.7, 0.5, 0.6, 0.6, 0.3, 0.5, 0.4, 0.7, 0.5, 0.4, 0.6, 0.3]\n",
      "Gate cost: [9, 8, 9, 8, 14, 11, 8, 9, 11, 10, 10, 20]\n",
      "\n",
      "Generation: 4 , Time: 72.54 s\n",
      "Accuracy: [0.9, 0.6, 0.5, 0.6, 0.7, 0.3, 0.8, 0.5, 0.5, 0.7, 0.5, 0.7]\n",
      "Gate cost: [9, 9, 8, 8, 15, 10, 6, 10, 14, 12, 10, 6]\n",
      "\n",
      "Generation: 5 , Time: 91.25 s\n",
      "Accuracy: [0.7, 0.9, 0.6, 0.6, 0.6, 0.5, 0.5, 0.8, 0.5, 0.4, 0.5, 0.5]\n",
      "Gate cost: [9, 6, 6, 8, 8, 8, 11, 6, 10, 8, 8, 5]\n",
      "\n",
      "Generation: 6 , Time: 109.15 s\n",
      "Accuracy: [0.9, 0.8, 0.9, 0.6, 1.0, 0.3, 0.4, 0.7, 0.6, 0.5, 0.6, 0.3]\n",
      "Gate cost: [6, 6, 9, 6, 11, 7, 7, 4, 11, 6, 13, 6]\n",
      "\n",
      "Generation: 7 , Time: 125.99 s\n",
      "Accuracy: [0.9, 0.8, 0.8, 0.5, 0.5, 0.2, 0.5, 0.6, 0.3, 0.5, 0.3, 0.2]\n",
      "Gate cost: [6, 6, 9, 4, 6, 14, 7, 9, 5, 10, 4, 4]\n",
      "\n",
      "Generation: 8 , Time: 143.6 s\n",
      "Accuracy: [0.9, 0.8, 0.8, 0.6, 0.6, 0.6, 0.6, 0.7, 0.4, 0.4, 0.5, 0.6]\n",
      "Gate cost: [6, 6, 9, 4, 6, 13, 12, 15, 11, 6, 15, 8]\n",
      "\n",
      "Generation: 9 , Time: 160.76 s\n",
      "Accuracy: [0.8, 0.7, 0.7, 0.6, 0.3, 0.6, 0.4, 1.0, 0.3, 0.6, 0.6, 0.5]\n",
      "Gate cost: [6, 6, 9, 4, 11, 11, 5, 5, 7, 8, 11, 5]\n",
      "\n",
      "Generation: 10 , Time: 179.09 s\n",
      "Accuracy: [1.0, 0.9, 0.9, 0.8, 0.6, 0.4, 0.3, 0.7, 0.4, 0.5, 0.4, 0.6]\n",
      "Gate cost: [5, 6, 6, 9, 9, 5, 4, 4, 10, 7, 9, 17]\n",
      "\n",
      "Generation: 11 , Time: 196.97 s\n",
      "Accuracy: [1.0, 1.0, 0.8, 0.7, 0.7, 0.7, 0.3, 0.4, 0.5, 0.6, 0.4, 0.4]\n",
      "Gate cost: [5, 6, 6, 9, 5, 9, 3, 9, 7, 6, 15, 6]\n",
      "\n",
      "Generation: 12 , Time: 214.68 s\n",
      "Accuracy: [1.0, 0.8, 0.8, 0.7, 0.8, 0.5, 0.4, 0.7, 0.3, 0.2, 0.5, 0.6]\n",
      "Gate cost: [5, 6, 6, 5, 10, 5, 8, 6, 4, 2, 7, 6]\n",
      "\n",
      "Generation: 13 , Time: 233.31 s\n",
      "Accuracy: [1.0, 0.7, 0.7, 0.5, 0.6, 0.6, 0.6, 0.8, 0.4, 0.6, 0.9, 0.4]\n",
      "Gate cost: [5, 6, 6, 5, 9, 9, 7, 11, 7, 17, 12, 8]\n",
      "\n",
      "Generation: 14 , Time: 251.83 s\n",
      "Accuracy: [1.0, 0.9, 0.9, 0.7, 1.0, 0.4, 0.6, 0.5, 0.9, 0.4, 0.4, 0.2]\n",
      "Gate cost: [5, 6, 6, 5, 4, 10, 3, 2, 7, 14, 7, 9]\n",
      "\n",
      "Generation: 15 , Time: 269.21 s\n",
      "Accuracy: [1.0, 1.0, 0.9, 0.9, 0.3, 0.3, 0.4, 0.5, 0.4, 0.5, 0.5, 1.0]\n",
      "Gate cost: [4, 5, 6, 6, 4, 3, 5, 5, 7, 5, 7, 5]\n",
      "\n",
      "Generation: 16 , Time: 288.46 s\n",
      "Accuracy: [1.0, 1.0, 1.0, 0.9, 0.6, 0.2, 0.7, 0.5, 0.4, 0.4, 0.7, 0.7]\n",
      "Gate cost: [4, 5, 5, 6, 5, 7, 12, 5, 6, 11, 9, 9]\n",
      "\n",
      "Generation: 17 , Time: 306.83 s\n",
      "Accuracy: [1.0, 1.0, 1.0, 0.9, 0.8, 0.5, 0.7, 0.7, 0.4, 0.3, 0.3, 0.5]\n",
      "Gate cost: [4, 5, 5, 6, 9, 14, 5, 8, 10, 6, 9, 7]\n",
      "\n",
      "Generation: 18 , Time: 325.98 s\n",
      "Accuracy: [1.0, 0.9, 1.0, 0.9, 1.0, 0.3, 0.6, 0.7, 1.0, 0.4, 0.5, 0.2]\n",
      "Gate cost: [4, 5, 5, 6, 6, 10, 14, 9, 9, 3, 10, 16]\n",
      "\n",
      "Generation: 19 , Time: 344.09 s\n",
      "Accuracy: [1.0, 1.0, 1.0, 1.0, 0.4, 0.6, 0.9, 0.8, 0.5, 0.6, 0.5, 0.7]\n",
      "Gate cost: [4, 5, 5, 6, 5, 7, 11, 7, 5, 8, 4, 4]\n",
      "\n",
      "Generation: 20 , Time: 362.18 s\n",
      "Accuracy: [1.0, 1.0, 1.0, 1.0, 0.1, 0.4, 0.7, 0.5, 0.6, 0.1, 0.7, 0.8]\n",
      "Gate cost: [4, 5, 5, 6, 6, 9, 6, 6, 4, 6, 12, 7]\n",
      "\n",
      "Generation: 21 , Time: 380.66 s\n",
      "Accuracy: [1.0, 1.0, 1.0, 1.0, 0.8, 0.6, 0.5, 0.4, 0.5, 0.6, 0.7, 0.5]\n",
      "Gate cost: [4, 5, 5, 6, 15, 5, 6, 10, 10, 20, 8, 4]\n",
      "\n",
      "Generation: 22 , Time: 399.13 s\n",
      "Accuracy: [1.0, 1.0, 1.0, 0.9, 1.0, 0.8, 0.4, 0.3, 0.6, 0.5, 1.0, 0.3]\n",
      "Gate cost: [4, 5, 5, 6, 12, 6, 13, 7, 8, 6, 6, 5]\n",
      "\n",
      "Generation: 23 , Time: 418.03 s\n",
      "Accuracy: [0.9, 1.0, 1.0, 1.0, 0.3, 0.6, 0.9, 0.5, 1.0, 0.9, 0.5, 0.5]\n",
      "Gate cost: [4, 5, 5, 6, 12, 14, 11, 9, 10, 6, 9, 5]\n",
      "\n",
      "Generation: 24 , Time: 435.67 s\n",
      "Accuracy: [1.0, 1.0, 1.0, 1.0, 0.3, 0.4, 0.6, 0.5, 0.3, 0.5, 0.3, 0.6]\n",
      "Gate cost: [4, 5, 5, 6, 10, 8, 12, 10, 0, 6, 12, 5]\n",
      "\n",
      "Generation: 25 , Time: 453.67 s\n",
      "Accuracy: [1.0, 1.0, 1.0, 1.0, 0.6, 0.5, 0.5, 0.4, 0.7, 0.6, 0.5, 0.1]\n",
      "Gate cost: [4, 5, 5, 6, 8, 10, 14, 4, 6, 9, 4, 4]\n",
      "\n",
      "Generation: 26 , Time: 472.07 s\n",
      "Accuracy: [0.9, 0.9, 1.0, 1.0, 0.3, 0.9, 0.8, 0.5, 0.6, 0.5, 0.5, 0.4]\n",
      "Gate cost: [4, 5, 5, 6, 2, 5, 6, 10, 6, 11, 3, 6]\n",
      "\n",
      "Generation: 27 , Time: 490.17 s\n",
      "Accuracy: [1.0, 1.0, 1.0, 0.9, 0.6, 0.7, 0.6, 0.3, 0.7, 0.6, 0.4, 0.3]\n",
      "Gate cost: [4, 5, 5, 5, 8, 9, 6, 6, 9, 4, 11, 2]\n",
      "\n",
      "Generation: 28 , Time: 509.03 s\n",
      "Accuracy: [1.0, 1.0, 1.0, 0.8, 0.5, 0.7, 0.8, 0.5, 0.4, 0.6, 0.5, 0.4]\n",
      "Gate cost: [4, 5, 5, 5, 6, 13, 10, 19, 5, 7, 6, 16]\n",
      "\n",
      "Generation: 29 , Time: 527.01 s\n",
      "Accuracy: [1.0, 1.0, 1.0, 0.9, 0.3, 0.2, 0.4, 1.0, 0.4, 0.8, 0.7, 0.7]\n",
      "Gate cost: [4, 5, 5, 5, 6, 11, 10, 8, 5, 14, 4, 5]\n"
     ]
    },
    {
     "data": {
      "image/png": "[encoded data removed]",
      "text/plain": [
       "<Figure size 648x432 with 1 Axes>"
      ]
     },
     "metadata": {},
     "output_type": "display_data"
    }
   ],
   "source": [
    "pop, obj_GATE, obj_ACC= [], [], []\n",
    "early_stop, threshold= 0, [0.1,100]\n",
    "\n",
    "sns.set_style(\"whitegrid\")\n",
    "plt.figure(figsize=(9,6))\n",
    "plt.xlim(1.04,0.54)\n",
    "plt.ylim(0,25)\n",
    "plt.xlabel(\"Accuracy\", fontsize=12)\n",
    "plt.ylabel(\"Gate size\", fontsize=12)\n",
    "plt.grid(False)\n",
    "\n",
    "for i in range(POPULATION):\n",
    "    genes = np.random.randint(2, size=(GENE,BIT))\n",
    "    pop.append(genes)\n",
    "    \n",
    "start_time = time()\n",
    "for g in range(GENERATION):\n",
    "\n",
    "    inputs = range(POPULATION)\n",
    "    process_list= []\n",
    "\n",
    "    q_list = [Queue() for i in range(len(inputs))]\n",
    "    RESULt = []\n",
    "\n",
    "    for i in inputs:\n",
    "        process_list.append(mp.Process(target = task, args = (i, pop,  q_list[i], MODE)))\n",
    "        process_list[-1].start()\n",
    "\n",
    "    for i in inputs:\n",
    "        process_list[i].join()\n",
    "\n",
    "    for q in q_list:\n",
    "        RESULt.append(q.get())\n",
    "    \n",
    "    end_time = time()\n",
    "\n",
    "    FITNESS, SCORE, GATECOST, QC_R, QC_H, QC_CNOT, QC_SWAP, plt_acc, plt_gate = [], [], [], [], [], [], [], [], []\n",
    "    cost_pool ,obj_gate, obj_acc = 0, 0, 0\n",
    "\n",
    "    for i in range(POPULATION):\n",
    "        SCORE.append(round(RESULt[i][0],2))\n",
    "        QC_R.append(RESULt[i][1])\n",
    "        QC_H.append(RESULt[i][2])\n",
    "        QC_CNOT.append(RESULt[i][3])\n",
    "        if MODE == \"2local_swap\": QC_SWAP.append(RESULt[i][4])\n",
    "        \n",
    "    for i in range(POPULATION):\n",
    "        if MODE == \"2local_swap\": gcost = cost_gate(QC_R[i], QC_H[i], QC_CNOT[i], QC_SWAP[i])\n",
    "        else: gcost = cost_gate(QC_R[i], QC_H[i], QC_CNOT[i])\n",
    "        GATECOST.append(gcost)\n",
    "    \n",
    "    for i in range(POOLSIZE):\n",
    "        if MODE == \"2local_swap\": obj_g = cost_gate(QC_R[i], QC_H[i], QC_CNOT[i], QC_SWAP[i])\n",
    "        else: obj_g = cost_gate(QC_R[i], QC_H[i], QC_CNOT[i])\n",
    "        obj_a = SCORE[i]\n",
    "        \n",
    "        plt_gate.append(obj_g)\n",
    "        plt_acc.append(obj_a)\n",
    "        obj_gate += obj_g\n",
    "        obj_acc += obj_a\n",
    "    \n",
    "    obj_GATE.append(obj_gate/POOLSIZE)\n",
    "    obj_ACC.append(obj_acc/POOLSIZE)\n",
    "    plt.scatter(plt_acc, plt_gate, s=10, c=\"#4863A0\", alpha=(g+GENERATION/2)/(1.5*GENERATION))\n",
    "    \n",
    "    print(\"\\nGeneration:\", g+1,\", Time:\", round(end_time-start_time,2),\"s\")\n",
    "    print(\"Accuracy:\", SCORE)\n",
    "    print(\"Gate cost:\", GATECOST)\n",
    "    \n",
    "    if SCORE[0] > threshold[0] and GATECOST[0] < threshold[1]: \n",
    "        threshold = [SCORE[0],GATECOST[0]]\n",
    "        early_stop = 0 \n",
    "    early_stop += 1\n",
    "\n",
    "    if g == GENERATION: break\n",
    "    if early_stop == EARLYSTOP: break\n",
    "\n",
    "    parents, t_PARETO = [], []\n",
    "    for i in range(POPULATION):\n",
    "        tt = [SCORE[i], GATECOST[i]]\n",
    "        t_PARETO.append(tt)\n",
    "\n",
    "    pareto_list = pareto_front(t_PARETO)\n",
    "    for i in pareto_list:  \n",
    "        if i not in FITNESS: FITNESS.append(i)   \n",
    "#     print(\"Index:\",FITNESS)\n",
    "    \n",
    "    for i in range(POOLSIZE):\n",
    "        FitnessIndex = FITNESS[i]\n",
    "        parents.append(pop[FitnessIndex])\n",
    "\n",
    "    for i in range(OFFSPRINGSIZE):\n",
    "        ll,rr = np.random.randint(POOLSIZE), np.random.randint(POOLSIZE) \n",
    "        parent_left, parent_right = parents[ll], parents[rr]\n",
    "        cross_point = np.random.randint(GENE-1) \n",
    "        offspring = np.concatenate((parent_left[:cross_point],parent_right[cross_point:]), axis=0)\n",
    "\n",
    "        for ii in range(PROB):\n",
    "            mutation_index = np.random.randint(GENE) \n",
    "            mutation_bit = np.random.randint(BIT) \n",
    "            offspring[mutation_index][mutation_bit] = (offspring[mutation_index][mutation_bit]+1)%2\n",
    "\n",
    "        parents.append(offspring)       \n",
    "    pop = parents    \n",
    "plt.show()"
   ]
  },
  {
   "cell_type": "code",
   "execution_count": 7,
   "metadata": {
    "scrolled": false
   },
   "outputs": [
    {
     "data": {
      "image/png": "[encoded data removed]",
      "text/plain": [
       "<Figure size 1008x360 with 2 Axes>"
      ]
     },
     "metadata": {},
     "output_type": "display_data"
    }
   ],
   "source": [
    "sns.set_style(\"darkgrid\")\n",
    "obj_x, obj_y1, obj_y2 = np.arange(len(obj_ACC)), np.array(obj_GATE), np.array(obj_ACC)\n",
    "# cost_x, cost_y = np.arange(GENERATION), np.array(COST)\n",
    "\n",
    "fig, axes = plt.subplots(1,2, figsize=(14,5))\n",
    "\n",
    "ax1=axes[0]\n",
    "ax1.set_xlabel('Generation')\n",
    "ax1.set_ylabel('Gate cost')\n",
    "ax1.plot(obj_x+1, obj_y1, label=\"Gate cost\", color=\"#4863A0\")\n",
    "ax1.tick_params(axis='y')\n",
    "\n",
    "ax2 = axes[1]\n",
    "ax1.set_xlabel('Generation')\n",
    "ax2.set_ylabel('Accuracy')\n",
    "ax2.plot(obj_x+1, obj_y2, label=\"Accuracy\", color=\"#EE9A4D\")\n",
    "ax2.tick_params(axis='y')\n",
    "ax2.set_ylim(0, 1.1)\n",
    "\n",
    "ax1.legend(loc=\"upper left\")\n",
    "ax2.legend(loc=\"upper right\")\n",
    "\n",
    "\n",
    "fig.tight_layout() \n",
    "plt.show()"
   ]
  },
  {
   "cell_type": "code",
   "execution_count": 8,
   "metadata": {
    "scrolled": true
   },
   "outputs": [
    {
     "name": "stdout",
     "output_type": "stream",
     "text": [
      "R gate: 4 \n",
      "H gate: 0 \n",
      "CNOT gate: 0\n"
     ]
    },
    {
     "data": {
      "image/png": "[encoded data removed]",
      "text/plain": [
       "<Figure size 387.452x144.48 with 1 Axes>"
      ]
     },
     "execution_count": 8,
     "metadata": {},
     "output_type": "execute_result"
    }
   ],
   "source": [
    "DISPLAY = 1\n",
    "if MODE == \"paper\":\n",
    "    qc_display, r_display, h_display, cnot_display = generate_circuit_paper(pop[DISPLAY-1], QUBIT, FEATURE)\n",
    "    print(\"R gate:\",r_display,\"\\nH gate:\",h_display,\"\\nCNOT gate:\",cnot_display)\n",
    "if MODE == \"2local\":\n",
    "    qc_display, r_display, h_display, cnot_display = generate_circuit_2local(pop[DISPLAY-1], QUBIT, FEATURE)\n",
    "    print(\"R gate:\",r_display,\"\\nH gate:\",h_display,\"\\nCNOT gate:\",cnot_display)\n",
    "if MODE == \"2local_swap\":\n",
    "    qc_display, r_display, h_display, cnot_display, swap_display = generate_circuit_2local_swap(pop[DISPLAY-1], QUBIT, FEATURE)\n",
    "    print(\"R gate:\",r_display,\"\\nH gate:\",h_display,\"\\nCNOT gate:\",cnot_display,\"\\nSWAP gate:\",swap_display)    \n",
    "qc_display.draw(output=\"mpl\")"
   ]
  },
  {
   "cell_type": "code",
   "execution_count": 9,
   "metadata": {},
   "outputs": [
    {
     "name": "stdout",
     "output_type": "stream",
     "text": [
      "Test kernel acc: 1.0\n"
     ]
    }
   ],
   "source": [
    "ga_kernel = QuantumKernel(feature_map=qc_display, quantum_instance=quantum_instance,)\n",
    "model_ga = SVC(kernel=ga_kernel.evaluate)\n",
    "qsvm = model_ga.fit(train_x, train_y)\n",
    "q_score = model_ga.score(test_x, test_y)\n",
    "\n",
    "print(f'Test kernel acc: {q_score}')"
   ]
  },
  {
   "cell_type": "code",
   "execution_count": 10,
   "metadata": {},
   "outputs": [
    {
     "data": {
      "image/png": "[encoded data removed]",
      "text/plain": [
       "<Figure size 648x432 with 1 Axes>"
      ]
     },
     "metadata": {},
     "output_type": "display_data"
    },
    {
     "name": "stdout",
     "output_type": "stream",
     "text": [
      "QSVM test score: 1.0\n",
      "Cost time: 234.332562 s\n"
     ]
    }
   ],
   "source": [
    "margin = 0.16\n",
    "\n",
    "def make_big_meshgrid(x, y, h=0.08): # 0.08: 28x28=784\n",
    "    x_min, x_max = x.min() - margin, x.max() + margin\n",
    "    y_min, y_max = y.min() - margin, y.max() + margin\n",
    "    xx, yy = np.meshgrid(np.arange(x_min, x_max, h), np.arange(y_min, y_max, h))\n",
    "    return xx, yy\n",
    "\n",
    "def plot_contours(ax, clf, xx, yy, **params):\n",
    "    Z = clf.predict(np.c_[xx.ravel(), yy.ravel()])\n",
    "    Z = Z.reshape(xx.shape)\n",
    "    out = ax.contourf(xx, yy, Z, **params)\n",
    "    return out\n",
    "\n",
    "X0, X1 = X[:, 0], X[:, 1]\n",
    "bbxx, bbyy = make_big_meshgrid(X0, X1)\n",
    "bbmeshgrid_features = np.column_stack((bbxx.ravel(), bbyy.ravel()))\n",
    "\n",
    "meshgrid_time1 = time()\n",
    "\n",
    "cmap = matplotlib.colors.LinearSegmentedColormap.from_list(\"\", [\"#4863A0\",\"#EE9A4D\"])\n",
    "meshgrid_colors = qsvm.predict(bbmeshgrid_features)\n",
    "\n",
    "plt.figure(figsize=(9,6))\n",
    "meshgrid_colors = meshgrid_colors.reshape(bbxx.shape)\n",
    "plt.pcolormesh(bbxx, bbyy, meshgrid_colors, cmap=cmap, alpha=0.4)\n",
    "\n",
    "plt.scatter(\n",
    "    X[:, 0][y == 0],\n",
    "    X[:, 1][y == 0],\n",
    "    marker=\"o\",\n",
    "    facecolors=\"#659EC7\",\n",
    "    edgecolors=\"k\",\n",
    "    label=\"-1\",)\n",
    "\n",
    "plt.scatter(\n",
    "    X[:, 0][y == 1],\n",
    "    X[:, 1][y == 1],\n",
    "    marker=\"o\",\n",
    "    facecolors=\"#FFA500\",\n",
    "    edgecolors=\"k\",\n",
    "    label=\"1\",)\n",
    "\n",
    "plt.legend(loc=\"upper left\", borderaxespad=1.0)\n",
    "plt.title(\"Test plot\", fontsize=15)\n",
    "plt.show()\n",
    "\n",
    "print(f'QSVM test score: {q_score}')\n",
    "\n",
    "meshgrid_time2 = time()\n",
    "print(\"Cost time: {:3f} s\".format(meshgrid_time2-meshgrid_time1))"
   ]
  },
  {
   "cell_type": "code",
   "execution_count": null,
   "metadata": {},
   "outputs": [],
   "source": []
  }
 ],
 "metadata": {
  "hide_input": false,
  "interpreter": {
   "hash": "73edad4db5a9f1ced759eded5187e19ba30057983a74070309538b6d2bc8cc52"
  },
  "kernelspec": {
   "display_name": "Python 3",
   "language": "python",
   "name": "python3"
  },
  "language_info": {
   "codemirror_mode": {
    "name": "ipython",
    "version": 3
   },
   "file_extension": ".py",
   "mimetype": "text/x-python",
   "name": "python",
   "nbconvert_exporter": "python",
   "pygments_lexer": "ipython3",
   "version": "3.6.7"
  }
 },
 "nbformat": 4,
 "nbformat_minor": 2
}
