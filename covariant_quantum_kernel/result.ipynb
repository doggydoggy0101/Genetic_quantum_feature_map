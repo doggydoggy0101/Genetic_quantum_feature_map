{
 "cells": [
  {
   "cell_type": "code",
   "execution_count": 1,
   "metadata": {},
   "outputs": [],
   "source": [
    "import warnings\n",
    "warnings.simplefilter(action='ignore',)\n",
    "\n",
    "from qiskit import Aer, QuantumCircuit\n",
    "from qiskit.utils import QuantumInstance\n",
    "from qiskit.circuit import ParameterVector\n",
    "from qiskit_machine_learning.kernels import QuantumKernel\n",
    "quantum_instance = QuantumInstance(Aer.get_backend('qasm_simulator'), shots=128)\n",
    "\n",
    "import numpy as np\n",
    "from pylab import cm\n",
    "from sklearn.svm import SVC\n",
    "from utils import train_test_split"
   ]
  },
  {
   "cell_type": "code",
   "execution_count": 2,
   "metadata": {},
   "outputs": [],
   "source": [
    "DATA_FILEPATH = \"dataset_graph7.csv\"\n",
    "train_x, train_y, test_x, test_y = train_test_split(DATA_FILEPATH)"
   ]
  },
  {
   "cell_type": "code",
   "execution_count": 3,
   "metadata": {
    "scrolled": true
   },
   "outputs": [
    {
     "name": "stdout",
     "output_type": "stream",
     "text": [
      "R gate: 3\n",
      "H gate: 0\n",
      "CNOT gate: 0\n"
     ]
    },
    {
     "data": {
      "image/png": "[encoded data removed]",
      "text/plain": [
       "<Figure size 327.252x144.48 with 1 Axes>"
      ]
     },
     "execution_count": 3,
     "metadata": {},
     "output_type": "execute_result"
    }
   ],
   "source": [
    "qc = QuantumCircuit(2)\n",
    "x = ParameterVector('x_par', 14) \n",
    "\n",
    "print(\"R gate: 3\\nH gate: 0\\nCNOT gate: 0\")\n",
    "\n",
    "qc.ry(np.pi*x[8],0)\n",
    "qc.rx((1/2)*np.pi*x[2],0)\n",
    "\n",
    "qc.ry(np.pi*x[6],1)\n",
    "\n",
    "qc.draw(output=\"mpl\")"
   ]
  },
  {
   "cell_type": "code",
   "execution_count": 4,
   "metadata": {},
   "outputs": [
    {
     "data": {
      "image/png": "[encoded data removed]",
      "text/plain": [
       "<Figure size 327.252x144.48 with 1 Axes>"
      ]
     },
     "execution_count": 4,
     "metadata": {},
     "output_type": "execute_result"
    }
   ],
   "source": [
    "# Identity\n",
    "qc.p(0*x[0]*x[1]*x[3]*x[4]*x[5]*x[7]*x[9]*x[10]*x[11]*x[12]*x[13],1)\n",
    "qc.draw(output=\"mpl\")"
   ]
  },
  {
   "cell_type": "code",
   "execution_count": 5,
   "metadata": {},
   "outputs": [
    {
     "name": "stdout",
     "output_type": "stream",
     "text": [
      "Test kernel acc: 1.0\n"
     ]
    }
   ],
   "source": [
    "ga_kernel = QuantumKernel(feature_map=qc, quantum_instance=quantum_instance,)\n",
    "model_ga = SVC(kernel=ga_kernel.evaluate)\n",
    "qsvm = model_ga.fit(train_x, train_y)\n",
    "q_score = model_ga.score(test_x, test_y)\n",
    "\n",
    "print(f'Test kernel acc: {q_score}')"
   ]
  }
 ],
 "metadata": {
  "hide_input": false,
  "kernelspec": {
   "display_name": "Python 3",
   "language": "python",
   "name": "python3"
  },
  "language_info": {
   "codemirror_mode": {
    "name": "ipython",
    "version": 3
   },
   "file_extension": ".py",
   "mimetype": "text/x-python",
   "name": "python",
   "nbconvert_exporter": "python",
   "pygments_lexer": "ipython3",
   "version": "3.6.7"
  }
 },
 "nbformat": 4,
 "nbformat_minor": 2
}
