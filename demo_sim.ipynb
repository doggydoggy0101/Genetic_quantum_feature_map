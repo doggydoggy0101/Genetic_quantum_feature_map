{
 "cells": [
  {
   "cell_type": "code",
   "execution_count": 1,
   "metadata": {
    "scrolled": true
   },
   "outputs": [
    {
     "name": "stdout",
     "output_type": "stream",
     "text": [
      "Number of cpu :  8\n"
     ]
    }
   ],
   "source": [
    "import warnings\n",
    "warnings.simplefilter(action='ignore',)\n",
    "\n",
    "import multiprocessing\n",
    "import multiprocessing as mp\n",
    "from multiprocessing import Queue\n",
    "print(\"Number of cpu : \", multiprocessing.cpu_count())"
   ]
  },
  {
   "cell_type": "code",
   "execution_count": 2,
   "metadata": {},
   "outputs": [],
   "source": [
    "from qiskit import Aer, QuantumCircuit\n",
    "from qiskit.utils import QuantumInstance\n",
    "from qiskit.circuit import ParameterVector\n",
    "from qiskit_machine_learning.kernels import QuantumKernel\n",
    "quantum_instance = QuantumInstance(Aer.get_backend('statevector_simulator'), shots=128)"
   ]
  },
  {
   "cell_type": "code",
   "execution_count": 3,
   "metadata": {},
   "outputs": [],
   "source": [
    "import numpy as np \n",
    "import pandas as pd\n",
    "import matplotlib.pyplot as plt\n",
    "import matplotlib.colors\n",
    "from time import time\n",
    "\n",
    "import seaborn as sns\n",
    "from sklearn import datasets\n",
    "from sklearn.svm import SVC\n",
    "sns.set_style(\"darkgrid\")"
   ]
  },
  {
   "cell_type": "code",
   "execution_count": 4,
   "metadata": {
    "scrolled": false
   },
   "outputs": [
    {
     "data": {
      "image/png": "[encoded data removed]",
      "text/plain": [
       "<Figure size 576x432 with 1 Axes>"
      ]
     },
     "metadata": {},
     "output_type": "display_data"
    }
   ],
   "source": [
    "X,y = datasets.make_moons(n_samples=50, noise=0.2, random_state=10)\n",
    "\n",
    "from sklearn import preprocessing\n",
    "scaler = preprocessing.MinMaxScaler(feature_range=(-1, 1))\n",
    "X = scaler.fit_transform(X)\n",
    "\n",
    "from sklearn.model_selection import train_test_split\n",
    "train_x, test_x, train_y, test_y = train_test_split(X, y, random_state = 10,test_size=1/5)\n",
    "\n",
    "plt.figure(figsize=(8,6))\n",
    "data_df = pd.DataFrame(dict(x_1=X[:,0], x_2=X[:,1], label=y))\n",
    "sns.scatterplot('x_1', 'x_2', data=data_df, hue='label')\n",
    "plt.show()"
   ]
  },
  {
   "cell_type": "markdown",
   "metadata": {},
   "source": [
    "##### Circuit generate"
   ]
  },
  {
   "cell_type": "code",
   "execution_count": 5,
   "metadata": {},
   "outputs": [],
   "source": [
    "def generate_circuit_2local(genes, qubit, parameter):\n",
    "    i, q = 0, 0\n",
    "    qc_r, qc_h, qc_cnot = 0, 0, 0\n",
    "    qc = QuantumCircuit(qubit)\n",
    "    p = ParameterVector('p', parameter)\n",
    "    \n",
    "    for i in range(parameter): qc.rz(0*p[i],i % qubit)   \n",
    "\n",
    "    for gene in genes:   \n",
    "        if gene[0] == 0 and gene[1] == 0 and gene[2] == 0:\n",
    "            qc.h(q % qubit)\n",
    "            qc_h+=1\n",
    "\n",
    "        elif gene[0] == 0 and gene[1] == 0 and gene[2] == 1:\n",
    "            qc.cx(q % qubit, (q+1) % qubit)\n",
    "            qc_cnot+=1\n",
    "\n",
    "        elif gene[0] == 1 and gene[1] == 0 and gene[2] == 1:\n",
    "            if gene[3] == 0 and gene[4] == 0 and gene[5] == 0: \n",
    "                qc.rx(np.pi*p[i % parameter], q % qubit)\n",
    "                i+=1\n",
    "                qc_r+=1\n",
    "            if gene[3] == 0 and gene[4] == 0 and gene[5] == 1: \n",
    "                qc.rx((7*np.pi/8)*p[i % parameter], q % qubit)\n",
    "                i+=1\n",
    "                qc_r+=1\n",
    "            if gene[3] == 0 and gene[4] == 1 and gene[5] == 0:\n",
    "                qc.rx((3*np.pi/4)*p[i % parameter], q % qubit)\n",
    "                i+=1\n",
    "                qc_r+=1\n",
    "            if gene[3] == 0 and gene[4] == 1 and gene[5] == 1: \n",
    "                qc.rx((5*np.pi/8)*p[i % parameter], q % qubit)\n",
    "                i+=1\n",
    "                qc_r+=1\n",
    "            if gene[3] == 1 and gene[4] == 0 and gene[5] == 0:\n",
    "                qc.rx((np.pi/2)*p[i % parameter], q % qubit)\n",
    "                i+=1\n",
    "                qc_r+=1\n",
    "            if gene[3] == 1 and gene[4] == 0 and gene[5] == 1: \n",
    "                qc.rx((3*np.pi/8)*p[i % parameter], q % qubit)\n",
    "                i+=1\n",
    "                qc_r+=1\n",
    "            if gene[3] == 1 and gene[4] == 1 and gene[5] == 0: \n",
    "                qc.rx((np.pi/4)*p[i % parameter], q % qubit)\n",
    "                i+=1\n",
    "                qc_r+=1\n",
    "            if gene[3] == 1 and gene[4] == 1 and gene[5] == 1: \n",
    "                qc.rx((np.pi/8)*p[i % parameter], q % qubit)\n",
    "                i+=1\n",
    "                qc_r+=1\n",
    "        elif gene[0] == 1 and gene[1] == 1 and gene[2] == 0:\n",
    "            if gene[3] == 0 and gene[4] == 0 and gene[5] == 0: \n",
    "                qc.ry(np.pi*p[i % parameter], q % qubit)\n",
    "                i+=1\n",
    "                qc_r+=1\n",
    "            if gene[3] == 0 and gene[4] == 0 and gene[5] == 1: \n",
    "                qc.ry((7*np.pi/8)*p[i % parameter], q % qubit)\n",
    "                i+=1\n",
    "                qc_r+=1\n",
    "            if gene[3] == 0 and gene[4] == 1 and gene[5] == 0:\n",
    "                qc.ry((3*np.pi/4)*p[i % parameter], q % qubit)\n",
    "                i+=1\n",
    "                qc_r+=1\n",
    "            if gene[3] == 0 and gene[4] == 1 and gene[5] == 1: \n",
    "                qc.ry((5*np.pi/8)*p[i % parameter], q % qubit)\n",
    "                i+=1\n",
    "                qc_r+=1\n",
    "            if gene[3] == 1 and gene[4] == 0 and gene[5] == 0:\n",
    "                qc.ry((np.pi/2)*p[i % parameter], q % qubit)\n",
    "                i+=1\n",
    "                qc_r+=1\n",
    "            if gene[3] == 1 and gene[4] == 0 and gene[5] == 1: \n",
    "                qc.ry((3*np.pi/8)*p[i % parameter], q % qubit)\n",
    "                i+=1\n",
    "                qc_r+=1\n",
    "            if gene[3] == 1 and gene[4] == 1 and gene[5] == 0: \n",
    "                qc.ry((np.pi/4)*p[i % parameter], q % qubit)\n",
    "                i+=1\n",
    "                qc_r+=1\n",
    "            if gene[3] == 1 and gene[4] == 1 and gene[5] == 1: \n",
    "                qc.ry((np.pi/8)*p[i % parameter], q % qubit)\n",
    "                i+=1\n",
    "                qc_r+=1\n",
    "\n",
    "        elif gene[0] == 1 and gene[1] == 1 and gene[2] == 1:\n",
    "            if gene[3] == 0 and gene[4] == 0 and gene[5] == 0: \n",
    "                qc.rz(np.pi*p[i % parameter], q % qubit)\n",
    "                i+=1\n",
    "                qc_r+=1\n",
    "            if gene[3] == 0 and gene[4] == 0 and gene[5] == 1: \n",
    "                qc.rz((7*np.pi/8)*p[i % parameter], q % qubit)\n",
    "                i+=1\n",
    "                qc_r+=1\n",
    "            if gene[3] == 0 and gene[4] == 1 and gene[5] == 0:\n",
    "                qc.rz((3*np.pi/4)*p[i % parameter], q % qubit)\n",
    "                i+=1\n",
    "                qc_r+=1\n",
    "            if gene[3] == 0 and gene[4] == 1 and gene[5] == 1: \n",
    "                qc.rz((5*np.pi/8)*p[i % parameter], q % qubit)\n",
    "                i+=1\n",
    "                qc_r+=1\n",
    "            if gene[3] == 1 and gene[4] == 0 and gene[5] == 0:\n",
    "                qc.rz((np.pi/2)*p[i % parameter], q % qubit)\n",
    "                i+=1\n",
    "                qc_r+=1\n",
    "            if gene[3] == 1 and gene[4] == 0 and gene[5] == 1: \n",
    "                qc.rz((3*np.pi/8)*p[i % parameter], q % qubit)\n",
    "                i+=1\n",
    "                qc_r+=1\n",
    "            if gene[3] == 1 and gene[4] == 1 and gene[5] == 0: \n",
    "                qc.rz((np.pi/4)*p[i % parameter], q % qubit)\n",
    "                i+=1\n",
    "                qc_r+=1\n",
    "            if gene[3] == 1 and gene[4] == 1 and gene[5] == 1: \n",
    "                qc.rz((np.pi/8)*p[i % parameter], q % qubit)\n",
    "                i+=1\n",
    "                qc_r+=1\n",
    "        q+=1\n",
    "    return qc, qc_r, qc_h, qc_cnot\n"
   ]
  },
  {
   "cell_type": "markdown",
   "metadata": {},
   "source": [
    "##### Parameters"
   ]
  },
  {
   "cell_type": "code",
   "execution_count": 6,
   "metadata": {},
   "outputs": [],
   "source": [
    "MODE = \"2local\" \n",
    "QUBIT = 2\n",
    "FEATURE = 2\n",
    "\n",
    "BIT = 6\n",
    "GENE = 8\n",
    "POPULATION = multiprocessing.cpu_count() # 8\n",
    "\n",
    "POOLSIZE = 3\n",
    "OFFSPRINGSIZE = POPULATION - POOLSIZE\n",
    "PROB = 6\n",
    "MUTATION_PROB = PROB/GENE\n",
    "\n",
    "GENERATION = 100\n",
    "EARLYSTOP = 10"
   ]
  },
  {
   "cell_type": "markdown",
   "metadata": {},
   "source": [
    "##### Multi-objective fitness function\n"
   ]
  },
  {
   "cell_type": "code",
   "execution_count": 7,
   "metadata": {},
   "outputs": [],
   "source": [
    "W = 20\n",
    "\n",
    "def cost_func(acc, r, h, cnot, swap=0):\n",
    "    \n",
    "    if acc == 0.0: acc = 0.01\n",
    "    gate_cost = r + 2*h + 5*cnot+11*swap\n",
    "    fit = gate_cost + W / acc**2 - W\n",
    "    return round(fit,1)\n",
    "\n",
    "def cost_gate(r,h,cnot,swap=0): return r+2*h+5*cnot+11*swap"
   ]
  },
  {
   "cell_type": "code",
   "execution_count": 8,
   "metadata": {},
   "outputs": [],
   "source": [
    "def task(i, pop, q, mode):\n",
    "    if mode == \"2local\": qc_i, r_i, h_i, cnot_i = generate_circuit_2local(pop[i], QUBIT, FEATURE)\n",
    "    kernel = QuantumKernel(feature_map=qc_i, quantum_instance=quantum_instance,)\n",
    "    model = SVC(kernel=kernel.evaluate)\n",
    "    model.fit(train_x, train_y)\n",
    "    score = model.score(test_x, test_y)\n",
    "    if mode == \"2local\": q.put([score, r_i, h_i, cnot_i])"
   ]
  },
  {
   "cell_type": "code",
   "execution_count": 9,
   "metadata": {},
   "outputs": [],
   "source": [
    "def calculate_fitness(pop, population, train_x, train_y, test_x, test_y):\n",
    "    FITNESS = []\n",
    "    SCORE, RR, HH, CC = [], [], [], []\n",
    "\n",
    "    for i in range(population):\n",
    "        qc_i, r_i, h_i, cnot_i = generate_circuit_2local(pop[i], QUBIT, FEATURE)\n",
    "        kernel = QuantumKernel(feature_map=qc_i, quantum_instance=quantum_instance,)\n",
    "        model = SVC(kernel=kernel.evaluate)\n",
    "        model.fit(train_x, train_y)\n",
    "        score = model.score(test_x, test_y)\n",
    "        \n",
    "        SCORE.append(score)\n",
    "        QC_R.append(r_i)\n",
    "        QC_H.append(h_i)\n",
    "        QC_CNOT.append(cnot_i)\n",
    "\n",
    "    for i in range(population):\n",
    "        fit = cost_func(SCORE[i], QC_R[i], QC_H[i], QC_CNOT[i])\n",
    "        FITNESS.append(fit)\n",
    "    \n",
    "    return SCORE, FITNESS, QC_R, QC_H, QC_CNOT"
   ]
  },
  {
   "cell_type": "markdown",
   "metadata": {},
   "source": [
    "#### Genetic Algorithm"
   ]
  },
  {
   "cell_type": "code",
   "execution_count": 10,
   "metadata": {
    "scrolled": false
   },
   "outputs": [
    {
     "name": "stdout",
     "output_type": "stream",
     "text": [
      "\n",
      "Generation: 1 , Cost: 29.0 , Time: 1.6 s\n",
      "Accuracy: [0.8, 0.6, 0.8, 0.3, 0.7, 0.8, 0.7, 0.7]\n",
      "Fitness: [15.2, 42.6, 29.2, 210.2, 36.8, 24.2, 31.8, 34.8]\n",
      "\n",
      "Generation: 2 , Cost: 22.87 , Time: 2.98 s\n",
      "Accuracy: [0.8, 0.8, 0.8, 0.6, 0.5, 0.7, 0.7, 0.8]\n",
      "Fitness: [15.2, 24.2, 29.2, 47.6, 76.0, 33.8, 30.8, 13.2]\n",
      "\n",
      "Generation: 3 , Cost: 17.53 , Time: 4.4 s\n",
      "Accuracy: [0.8, 0.8, 0.8, 0.8, 1.0, 0.6, 0.5, 0.5]\n",
      "Fitness: [13.2, 15.2, 24.2, 14.2, 11.0, 47.6, 76.0, 82.0]\n",
      "\n",
      "Generation: 4 , Cost: 12.8 , Time: 5.82 s\n",
      "Accuracy: [1.0, 0.8, 0.8, 0.8, 0.8, 0.9, 0.9, 0.7]\n",
      "Fitness: [11.0, 13.2, 14.2, 13.2, 19.2, 20.7, 10.7, 29.8]\n",
      "\n",
      "Generation: 5 , Cost: 11.63 , Time: 7.26 s\n",
      "Accuracy: [0.9, 1.0, 0.8, 0.8, 0.8, 0.7, 0.7, 0.7]\n",
      "Fitness: [10.7, 11.0, 13.2, 16.2, 21.2, 24.8, 22.8, 27.8]\n",
      "\n",
      "Generation: 6 , Cost: 11.63 , Time: 8.66 s\n",
      "Accuracy: [0.9, 1.0, 0.8, 0.7, 0.8, 0.8, 0.8, 0.8]\n",
      "Fitness: [10.7, 11.0, 13.2, 22.8, 13.2, 17.2, 25.2, 17.2]\n",
      "\n",
      "Generation: 7 , Cost: 11.63 , Time: 10.04 s\n",
      "Accuracy: [0.9, 1.0, 0.8, 0.7, 0.6, 0.8, 0.8, 0.8]\n",
      "Fitness: [10.7, 11.0, 13.2, 26.8, 43.6, 14.2, 19.2, 21.2]\n",
      "\n",
      "Generation: 8 , Cost: 11.63 , Time: 11.5 s\n",
      "Accuracy: [0.9, 1.0, 0.8, 0.4, 0.7, 0.8, 0.9, 0.6]\n",
      "Fitness: [10.7, 11.0, 13.2, 109.0, 26.8, 15.2, 10.7, 46.6]\n",
      "\n",
      "Generation: 9 , Cost: 10.8 , Time: 13.18 s\n",
      "Accuracy: [0.9, 0.9, 1.0, 0.8, 0.6, 0.6, 0.9, 0.6]\n",
      "Fitness: [10.7, 10.7, 11.0, 25.2, 46.6, 44.6, 15.7, 42.6]\n",
      "\n",
      "Generation: 10 , Cost: 10.8 , Time: 14.83 s\n",
      "Accuracy: [0.9, 0.9, 1.0, 0.7, 0.9, 0.7, 0.5, 0.8]\n",
      "Fitness: [10.7, 10.7, 11.0, 31.8, 15.7, 26.8, 70.0, 17.2]\n",
      "\n",
      "Generation: 11 , Cost: 10.8 , Time: 16.42 s\n",
      "Accuracy: [0.9, 0.9, 1.0, 0.8, 0.7, 0.7, 0.7, 0.7]\n",
      "Fitness: [10.7, 10.7, 11.0, 24.2, 25.8, 28.8, 31.8, 25.8]\n",
      "\n",
      "Generation: 12 , Cost: 10.8 , Time: 17.91 s\n",
      "Accuracy: [0.9, 0.9, 1.0, 0.9, 0.8, 0.8, 0.7, 0.8]\n",
      "Fitness: [10.7, 10.7, 11.0, 13.7, 16.2, 17.2, 24.8, 16.2]\n",
      "\n",
      "Generation: 13 , Cost: 10.8 , Time: 19.65 s\n",
      "Accuracy: [0.9, 0.9, 1.0, 0.8, 0.7, 0.7, 0.6, 0.7]\n",
      "Fitness: [10.7, 10.7, 11.0, 18.2, 32.8, 27.8, 42.6, 30.8]\n",
      "\n",
      "Generation: 14 , Cost: 10.8 , Time: 21.29 s\n",
      "Accuracy: [0.9, 0.9, 1.0, 0.8, 0.7, 0.7, 0.8, 0.7]\n",
      "Fitness: [10.7, 10.7, 11.0, 18.2, 27.8, 33.8, 17.2, 25.8]\n",
      "\n",
      "Generation: 15 , Cost: 10.8 , Time: 22.81 s\n",
      "Accuracy: [0.9, 0.9, 1.0, 0.7, 0.7, 0.7, 0.7, 0.7]\n",
      "Fitness: [10.7, 10.7, 11.0, 34.8, 35.8, 26.8, 30.8, 26.8]\n",
      "\n",
      "Generation: 16 , Cost: 10.8 , Time: 24.57 s\n",
      "Accuracy: [0.9, 0.9, 1.0, 0.8, 0.7, 0.7, 0.7, 0.8]\n",
      "Fitness: [10.7, 10.7, 11.0, 28.2, 27.8, 26.8, 26.8, 22.2]\n",
      "\n",
      "Generation: 17 , Cost: 10.8 , Time: 26.08 s\n",
      "Accuracy: [0.9, 0.9, 1.0, 0.7, 0.7, 0.6, 0.8, 0.9]\n",
      "Fitness: [10.7, 10.7, 11.0, 27.8, 26.8, 42.6, 21.2, 10.7]\n",
      "\n",
      "Generation: 18 , Cost: 10.7 , Time: 27.58 s\n",
      "Accuracy: [0.9, 0.9, 0.9, 0.7, 0.8, 0.6, 1.0, 0.6]\n",
      "Fitness: [10.7, 10.7, 10.7, 26.8, 14.2, 45.6, 6.0, 41.6]\n",
      "\n",
      "Generation: 19 , Cost: 9.13 , Time: 29.28 s\n",
      "Accuracy: [1.0, 0.9, 0.9, 0.6, 0.6, 0.7, 0.9, 0.7]\n",
      "Fitness: [6.0, 10.7, 10.7, 43.6, 42.6, 27.8, 12.7, 25.8]\n",
      "\n",
      "Generation: 20 , Cost: 9.13 , Time: 31.01 s\n",
      "Accuracy: [1.0, 0.9, 0.9, 0.6, 0.9, 0.8, 0.7, 0.8]\n",
      "Fitness: [6.0, 10.7, 10.7, 42.6, 12.7, 20.2, 25.8, 17.2]\n",
      "\n",
      "Generation: 21 , Cost: 9.13 , Time: 32.6 s\n",
      "Accuracy: [1.0, 0.9, 0.9, 0.8, 0.6, 0.8, 0.7, 0.7]\n",
      "Fitness: [6.0, 10.7, 10.7, 17.2, 40.6, 16.2, 31.8, 25.8]\n",
      "\n",
      "Generation: 22 , Cost: 9.13 , Time: 34.17 s\n",
      "Accuracy: [1.0, 0.9, 0.9, 0.6, 0.8, 0.8, 0.8, 0.8]\n",
      "Fitness: [6.0, 10.7, 10.7, 42.6, 25.2, 16.2, 22.2, 17.2]\n",
      "\n",
      "Generation: 23 , Cost: 9.13 , Time: 35.69 s\n",
      "Accuracy: [1.0, 0.9, 0.9, 1.0, 1.0, 0.7, 0.7, 0.8]\n",
      "Fitness: [6.0, 10.7, 10.7, 8.0, 4.0, 25.8, 29.8, 21.2]\n",
      "\n",
      "Generation: 24 , Cost: 6.0 , Time: 37.31 s\n",
      "Accuracy: [1.0, 1.0, 1.0, 0.9, 0.3, 0.9, 0.7, 0.6]\n",
      "Fitness: [4.0, 6.0, 8.0, 12.7, 212.2, 13.7, 26.8, 40.6]\n",
      "\n",
      "Generation: 25 , Cost: 6.0 , Time: 38.91 s\n",
      "Accuracy: [1.0, 1.0, 1.0, 0.7, 0.7, 0.6, 0.9, 0.5]\n",
      "Fitness: [4.0, 6.0, 8.0, 34.8, 26.8, 46.6, 10.7, 66.0]\n",
      "\n",
      "Generation: 26 , Cost: 6.0 , Time: 40.41 s\n",
      "Accuracy: [1.0, 1.0, 1.0, 0.6, 0.8, 0.6, 1.0, 0.8]\n",
      "Fitness: [4.0, 6.0, 8.0, 43.6, 15.2, 44.6, 6.0, 18.2]\n",
      "\n",
      "Generation: 27 , Cost: 5.33 , Time: 41.87 s\n",
      "Accuracy: [1.0, 1.0, 1.0, 0.2, 0.5, 0.4, 0.7, 0.9]\n",
      "Fitness: [4.0, 6.0, 6.0, 488.0, 73.0, 116.0, 26.8, 9.7]\n",
      "\n",
      "Generation: 28 , Cost: 5.33 , Time: 43.4 s\n",
      "Accuracy: [1.0, 1.0, 1.0, 0.6, 0.8, 0.7, 0.8, 0.7]\n",
      "Fitness: [4.0, 6.0, 6.0, 38.6, 14.2, 25.8, 16.2, 29.8]\n",
      "\n",
      "Generation: 29 , Cost: 5.33 , Time: 45.07 s\n",
      "Accuracy: [1.0, 1.0, 1.0, 0.8, 0.5, 0.7, 0.8, 0.8]\n",
      "Fitness: [4.0, 6.0, 6.0, 19.2, 65.0, 30.8, 15.2, 18.2]\n",
      "\n",
      "Generation: 30 , Cost: 5.33 , Time: 46.51 s\n",
      "Accuracy: [1.0, 1.0, 1.0, 0.7, 0.7, 0.6, 0.6, 0.7]\n",
      "Fitness: [4.0, 6.0, 6.0, 24.8, 27.8, 41.6, 44.6, 25.8]\n",
      "\n",
      "Generation: 31 , Cost: 5.33 , Time: 48.03 s\n",
      "Accuracy: [1.0, 1.0, 1.0, 0.5, 0.7, 0.8, 0.7, 0.5]\n",
      "Fitness: [4.0, 6.0, 6.0, 68.0, 23.8, 20.2, 26.8, 66.0]\n",
      "\n",
      "Generation: 32 , Cost: 5.33 , Time: 49.59 s\n",
      "Accuracy: [1.0, 1.0, 1.0, 0.8, 0.9, 0.8, 0.7, 0.8]\n",
      "Fitness: [4.0, 6.0, 6.0, 17.2, 8.7, 16.2, 27.8, 17.2]\n",
      "\n",
      "Generation: 33 , Cost: 5.33 , Time: 51.21 s\n",
      "Accuracy: [1.0, 1.0, 1.0, 0.7, 0.6, 0.7, 0.8, 0.7]\n",
      "Fitness: [4.0, 6.0, 6.0, 31.8, 39.6, 30.8, 18.2, 31.8]\n",
      "\n",
      "Generation: 34 , Cost: 5.33 , Time: 52.75 s\n",
      "Accuracy: [1.0, 1.0, 1.0, 0.7, 0.8, 0.7, 0.9, 0.7]\n",
      "Fitness: [4.0, 6.0, 6.0, 27.8, 18.2, 24.8, 13.7, 24.8]\n",
      "\n",
      "Generation: 35 , Cost: 5.33 , Time: 54.33 s\n",
      "Accuracy: [1.0, 1.0, 1.0, 0.8, 0.5, 0.6, 0.6, 0.9]\n",
      "Fitness: [4.0, 6.0, 6.0, 17.2, 65.0, 42.6, 40.6, 10.7]\n",
      "\n",
      "Generation: 36 , Cost: 5.33 , Time: 55.9 s\n",
      "Accuracy: [1.0, 1.0, 1.0, 1.0, 0.6, 0.7, 1.0, 0.7]\n",
      "Fitness: [4.0, 6.0, 6.0, 4.0, 40.6, 29.8, 6.0, 25.8]\n"
     ]
    },
    {
     "data": {
      "image/png": "[encoded data removed]",
      "text/plain": [
       "<Figure size 648x432 with 1 Axes>"
      ]
     },
     "metadata": {},
     "output_type": "display_data"
    }
   ],
   "source": [
    "pop, COST, obj_GATE, obj_ACC= [], [], [], []\n",
    "early_stop, threshold= 0, 100\n",
    "\n",
    "sns.set_style(\"whitegrid\")\n",
    "plt.figure(figsize=(9,6))\n",
    "plt.xlim(1.04,0.54)\n",
    "plt.ylim(1,GENE*2)\n",
    "plt.xlabel(\"Accuracy\", fontsize=12)\n",
    "plt.ylabel(\"Gate cost\", fontsize=12)\n",
    "plt.grid(False)\n",
    "\n",
    "    \n",
    "for i in range(POPULATION):\n",
    "    genes = np.random.randint(2, size=(GENE,BIT))\n",
    "    pop.append(genes)\n",
    "    \n",
    "start_time = time()\n",
    "for g in range(GENERATION):\n",
    "    \n",
    "    FITNESS, SCORE, QC_R, QC_H, QC_CNOT, QC_SWAP, plt_acc, plt_gate = [], [], [], [], [], [], [], []\n",
    "    cost_pool ,obj_gate, obj_acc = 0, 0, 0\n",
    "    \n",
    "    ##### Don't use if you don't have multiple CPU #####\n",
    "    inputs = range(POPULATION)\n",
    "    process_list= []\n",
    "\n",
    "    q_list = [Queue() for i in range(len(inputs))]\n",
    "    RESULt = []\n",
    "\n",
    "    for i in inputs:\n",
    "        process_list.append(mp.Process(target = task, args = (i, pop,  q_list[i], MODE)))\n",
    "        process_list[-1].start()\n",
    "\n",
    "    for i in inputs:\n",
    "        process_list[i].join()\n",
    "    print(\"stuck1\")\n",
    "    for q in q_list:\n",
    "        RESULt.append(q.get())\n",
    "    print(\"stuck2\")\n",
    "    end_time = time()\n",
    "\n",
    "    for i in range(POPULATION):\n",
    "        SCORE.append(round(RESULt[i][0],2))\n",
    "        QC_R.append(RESULt[i][1])\n",
    "        QC_H.append(RESULt[i][2])\n",
    "        QC_CNOT.append(RESULt[i][3])\n",
    "        \n",
    "    for i in range(POPULATION):\n",
    "        fit = cost_func(SCORE[i], QC_R[i], QC_H[i], QC_CNOT[i])\n",
    "        FITNESS.append(fit)            \n",
    "    ##### Don't use if you don't have multiple CPU #####\n",
    "    ##### Run line below instead    \n",
    "#     SCORE, FITNESS, QC_R, QC_H, QC_CNOT= calculate_fitness(pop, POPULATION, train_x, train_y, test_x, test_y)\n",
    "#     end_time = time()  \n",
    "    ##### Run line above instead\n",
    "    \n",
    "    for i in range(POOLSIZE):\n",
    "        cost_p = FITNESS[i]\n",
    "        obj_g = cost_gate(QC_R[i], QC_H[i], QC_CNOT[i])\n",
    "        obj_a = SCORE[i]\n",
    "        \n",
    "        plt_gate.append(obj_g)\n",
    "        plt_acc.append(obj_a)\n",
    "        cost_pool += cost_p\n",
    "        obj_gate += obj_g\n",
    "        obj_acc += obj_a\n",
    "     \n",
    "    if cost_pool/POOLSIZE < threshold:\n",
    "        threshold = cost_pool/POOLSIZE\n",
    "        early_stop = 0    \n",
    "    early_stop += 1\n",
    "    \n",
    "    COST.append(cost_pool/POOLSIZE)\n",
    "    obj_GATE.append(obj_gate/POOLSIZE)\n",
    "    obj_ACC.append(obj_acc/POOLSIZE)\n",
    "    plt.scatter(plt_acc, plt_gate, s=10, c=\"#4863A0\", alpha=(g+GENERATION/2)/(1.5*GENERATION))\n",
    "    \n",
    "    print(\"\\nGeneration:\", g+1,\", Cost:\", round(COST[g],2) ,\", Time:\", round(end_time-start_time,2),\"s\")\n",
    "    print(\"Accuracy:\", SCORE)\n",
    "    print(\"Fitness:\", FITNESS)\n",
    "\n",
    "    if g == GENERATION: break\n",
    "    if early_stop == EARLYSTOP: break\n",
    "\n",
    "    parents = []\n",
    "\n",
    "    for i in range(POOLSIZE):\n",
    "        FitnessIndex = np.where(FITNESS == min(FITNESS))\n",
    "        parents.append(pop[FitnessIndex[0][0]])\n",
    "        del FITNESS[FitnessIndex[0][0]]\n",
    "        del pop[FitnessIndex[0][0]]\n",
    "\n",
    "    for i in range(OFFSPRINGSIZE):\n",
    "        ll,rr = np.random.randint(POOLSIZE), np.random.randint(POOLSIZE) \n",
    "        parent_left, parent_right = parents[ll], parents[rr]\n",
    "        cross_point = np.random.randint(GENE-1) \n",
    "        offspring = np.concatenate((parent_left[:cross_point],parent_right[cross_point:]), axis=0)\n",
    "\n",
    "        for ii in range(PROB):\n",
    "            mutation_index = np.random.randint(GENE) \n",
    "            mutation_bit = np.random.randint(BIT) \n",
    "            offspring[mutation_index][mutation_bit] = (offspring[mutation_index][mutation_bit]+1)%2\n",
    "\n",
    "        parents.append(offspring)       \n",
    "    pop = parents    \n",
    "plt.show()"
   ]
  },
  {
   "cell_type": "code",
   "execution_count": 11,
   "metadata": {},
   "outputs": [
    {
     "data": {
      "image/png": "[encoded data removed]",
      "text/plain": [
       "<Figure size 1008x360 with 3 Axes>"
      ]
     },
     "metadata": {},
     "output_type": "display_data"
    }
   ],
   "source": [
    "sns.set_style(\"darkgrid\")\n",
    "obj_x, obj_y1, obj_y2 = np.arange(len(obj_ACC)), np.array(obj_GATE), np.array(obj_ACC)\n",
    "cost_x, cost_y = np.arange(len(obj_GATE)), np.array(COST)\n",
    "\n",
    "fig, axes = plt.subplots(1,2, figsize=(14,5))\n",
    "\n",
    "ax1=axes[1]\n",
    "ax1.set_xlabel('Generation')\n",
    "ax1.set_ylabel('Gate cost')\n",
    "ax1.plot(obj_x+1, obj_y1, label=\"Gate cost\", color=\"#4863A0\")\n",
    "ax1.tick_params(axis='y')\n",
    "\n",
    "ax2 = ax1.twinx() \n",
    "ax2.set_ylabel('Accuracy')\n",
    "ax2.plot(obj_x+1, obj_y2, label=\"Accuracy\", color=\"#EE9A4D\")\n",
    "ax2.grid(False)\n",
    "ax2.tick_params(axis='y')\n",
    "ax2.set_ylim(0, 1.1)\n",
    "\n",
    "ax1.legend(loc=\"upper left\")\n",
    "ax2.legend(loc=\"upper right\")\n",
    "\n",
    "ax3=axes[0]\n",
    "ax3.set_xlabel('Generation')\n",
    "ax3.set_ylabel('Fitness')\n",
    "ax3.plot(cost_x+1, cost_y, label=\"Fitness\", color=\"#3B9C9C\")\n",
    "ax3.tick_params(axis='y')\n",
    "ax3.legend(loc = \"upper right\")\n",
    "\n",
    "fig.tight_layout() \n",
    "plt.show()"
   ]
  },
  {
   "cell_type": "markdown",
   "metadata": {},
   "source": [
    "#### Results"
   ]
  },
  {
   "cell_type": "code",
   "execution_count": 12,
   "metadata": {
    "scrolled": true
   },
   "outputs": [
    {
     "name": "stdout",
     "output_type": "stream",
     "text": [
      "R gate: 4 \n",
      "H gate: 0 \n",
      "CNOT gate: 0\n"
     ]
    },
    {
     "data": {
      "image/png": "[encoded data removed]",
      "text/plain": [
       "<Figure size 267.052x144.48 with 1 Axes>"
      ]
     },
     "execution_count": 12,
     "metadata": {},
     "output_type": "execute_result"
    }
   ],
   "source": [
    "DISPLAY = 1\n",
    "qc_display, r_display, h_display, cnot_display = generate_circuit_2local(pop[DISPLAY-1], QUBIT, FEATURE)\n",
    "print(\"R gate:\",r_display,\"\\nH gate:\",h_display,\"\\nCNOT gate:\",cnot_display)\n",
    "qc_display.draw(output=\"mpl\")"
   ]
  },
  {
   "cell_type": "code",
   "execution_count": 13,
   "metadata": {},
   "outputs": [
    {
     "name": "stdout",
     "output_type": "stream",
     "text": [
      "Test kernel acc: 1.0\n"
     ]
    }
   ],
   "source": [
    "ga_kernel = QuantumKernel(feature_map=qc_display, quantum_instance=quantum_instance,)\n",
    "model_ga = SVC(kernel=ga_kernel.evaluate)\n",
    "qsvm = model_ga.fit(train_x, train_y)\n",
    "q_score = model_ga.score(test_x, test_y)\n",
    "\n",
    "print(f'Test kernel acc: {q_score}')"
   ]
  },
  {
   "cell_type": "markdown",
   "metadata": {},
   "source": [
    "#### Compare kernels"
   ]
  },
  {
   "cell_type": "code",
   "execution_count": 14,
   "metadata": {},
   "outputs": [],
   "source": [
    "GRID = 0.04\n",
    "\n",
    "def make_meshgrid(x, y, h=0.004):\n",
    "    xx, yy = np.meshgrid(np.arange(-1.04, 1.04+0.004, h), np.arange(-1.04, 1.04+0.004, h))\n",
    "    return xx, yy\n",
    "\n",
    "sns.set_style(\"whitegrid\")\n",
    "def make_big_meshgrid(x, y, h=GRID): \n",
    "    xx, yy = np.meshgrid(np.arange(-1.04, 1.04+GRID, h), np.arange(-1.04, 1.04+GRID, h))\n",
    "    return xx, yy\n",
    "\n",
    "def plot_contours(ax, clf, xx, yy, **params):\n",
    "    Z = clf.predict(np.c_[xx.ravel(), yy.ravel()])\n",
    "    Z = Z.reshape(xx.shape)\n",
    "    out = ax.contourf(xx, yy, Z, **params)\n",
    "    return out\n",
    "\n",
    "X0, X1 = X[:, 0], X[:, 1]\n",
    "\n",
    "xx, yy = make_meshgrid(X0, X1)\n",
    "bbxx, bbyy = make_big_meshgrid(X0, X1)\n",
    "\n",
    "meshgrid_features = np.column_stack((xx.ravel(), yy.ravel()))\n",
    "bbmeshgrid_features = np.column_stack((bbxx.ravel(), bbyy.ravel()))"
   ]
  },
  {
   "cell_type": "code",
   "execution_count": 15,
   "metadata": {
    "scrolled": false
   },
   "outputs": [
    {
     "data": {
      "image/png": "[encoded data removed]",
      "text/plain": [
       "<Figure size 576x432 with 1 Axes>"
      ]
     },
     "metadata": {},
     "output_type": "display_data"
    },
    {
     "name": "stdout",
     "output_type": "stream",
     "text": [
      "SVM linear test score: 0.7\n"
     ]
    }
   ],
   "source": [
    "model_svc = SVC(kernel='linear')\n",
    "svc_l = model_svc.fit(train_x, train_y)\n",
    "score = model_svc.score(test_x, test_y)\n",
    "\n",
    "cmap = matplotlib.colors.LinearSegmentedColormap.from_list(\"\", [\"#4863A0\",\"#EE9A4D\"])\n",
    "meshgrid_colors = svc_l.predict(meshgrid_features)\n",
    "\n",
    "plt.figure(figsize=(8,6))\n",
    "meshgrid_colors = meshgrid_colors.reshape(xx.shape)\n",
    "plt.pcolormesh(xx, yy, meshgrid_colors, cmap=cmap, alpha=0.36)\n",
    "\n",
    "plt.scatter(\n",
    "    train_x[np.where(train_y[:] == 0), 0], train_x[np.where(train_y[:] == 0), 1],\n",
    "    marker=\"o\", color=\"#4863A0\", edgecolors=\"k\", linewidths=0.64, label=\"A train\")\n",
    "\n",
    "plt.scatter(\n",
    "    train_x[np.where(train_y[:] == 1), 0], train_x[np.where(train_y[:] == 1), 1],\n",
    "    marker=\"o\", color=\"#EE9A4D\", edgecolors=\"k\", linewidths=0.64, label=\"B train\")\n",
    "\n",
    "plt.scatter(\n",
    "    test_x[np.where(test_y[:] == 0), 0], test_x[np.where(test_y[:] == 0), 1],\n",
    "    marker=\"s\", color=\"#4863A0\", edgecolors=\"k\", linewidths=0.64, label=\"A test\")\n",
    "\n",
    "plt.scatter(\n",
    "    test_x[np.where(test_y[:] == 1), 0], test_x[np.where(test_y[:] == 1), 1],\n",
    "    marker=\"s\", color=\"#EE9A4D\", edgecolors=\"k\", linewidths=0.64, label=\"B test\")\n",
    "\n",
    "plt.legend(bbox_to_anchor=(1.05,1), loc=\"upper left\", borderaxespad=0.0)\n",
    "plt.title(\"Moonshape predict\")\n",
    "plt.grid(False)\n",
    "plt.show()\n",
    "\n",
    "print(f'SVM linear test score: {score}')"
   ]
  },
  {
   "cell_type": "code",
   "execution_count": 16,
   "metadata": {},
   "outputs": [
    {
     "data": {
      "image/png": "[encoded data removed]",
      "text/plain": [
       "<Figure size 576x432 with 1 Axes>"
      ]
     },
     "metadata": {},
     "output_type": "display_data"
    },
    {
     "name": "stdout",
     "output_type": "stream",
     "text": [
      "SVM Gaussian test score: 0.9\n"
     ]
    }
   ],
   "source": [
    "model_svc = SVC(kernel='rbf',gamma=5)\n",
    "svc_p = model_svc.fit(train_x, train_y)\n",
    "score = model_svc.score(test_x, test_y)\n",
    "\n",
    "cmap = matplotlib.colors.LinearSegmentedColormap.from_list(\"\", [\"#4863A0\",\"#EE9A4D\"])\n",
    "meshgrid_colors = svc_p.predict(meshgrid_features)\n",
    "\n",
    "plt.figure(figsize=(8,6))\n",
    "meshgrid_colors = meshgrid_colors.reshape(xx.shape)\n",
    "plt.pcolormesh(xx, yy, meshgrid_colors, cmap=cmap, alpha=0.36)\n",
    "\n",
    "plt.scatter(\n",
    "    train_x[np.where(train_y[:] == 0), 0], train_x[np.where(train_y[:] == 0), 1],\n",
    "    marker=\"o\", color=\"#4863A0\", edgecolors=\"k\", linewidths=0.64, label=\"A train\")\n",
    "\n",
    "plt.scatter(\n",
    "    train_x[np.where(train_y[:] == 1), 0], train_x[np.where(train_y[:] == 1), 1],\n",
    "    marker=\"o\", color=\"#EE9A4D\", edgecolors=\"k\", linewidths=0.64, label=\"B train\")\n",
    "\n",
    "plt.scatter(\n",
    "    test_x[np.where(test_y[:] == 0), 0], test_x[np.where(test_y[:] == 0), 1],\n",
    "    marker=\"s\", color=\"#4863A0\", edgecolors=\"k\", linewidths=0.64, label=\"A test\")\n",
    "\n",
    "plt.scatter(\n",
    "    test_x[np.where(test_y[:] == 1), 0], test_x[np.where(test_y[:] == 1), 1],\n",
    "    marker=\"s\", color=\"#EE9A4D\", edgecolors=\"k\", linewidths=0.64, label=\"B test\")\n",
    "\n",
    "plt.legend(bbox_to_anchor=(1.05,1), loc=\"upper left\", borderaxespad=0.0)\n",
    "plt.title(\"Moonshape predict\")\n",
    "plt.grid(False)\n",
    "plt.show()\n",
    "\n",
    "print(f'SVM Gaussian test score: {score}')"
   ]
  },
  {
   "cell_type": "code",
   "execution_count": 17,
   "metadata": {
    "scrolled": false
   },
   "outputs": [
    {
     "data": {
      "image/png": "[encoded data removed]",
      "text/plain": [
       "<Figure size 576x432 with 1 Axes>"
      ]
     },
     "metadata": {},
     "output_type": "display_data"
    },
    {
     "name": "stdout",
     "output_type": "stream",
     "text": [
      "QSVM test score: 1.0\n",
      "Cost time: 10.701311 s\n"
     ]
    }
   ],
   "source": [
    "X0, X1 = train_x[:, 0], train_x[:, 1]\n",
    "bbxx, bbyy = make_big_meshgrid(X0, X1)\n",
    "bbmeshgrid_features = np.column_stack((bbxx.ravel(), bbyy.ravel()))\n",
    "\n",
    "meshgrid_time1 = time()\n",
    "\n",
    "cmap = matplotlib.colors.LinearSegmentedColormap.from_list(\"\", [\"#4863A0\",\"#EE9A4D\"])\n",
    "meshgrid_colors = qsvm.predict(bbmeshgrid_features)\n",
    "\n",
    "plt.figure(figsize=(8,6))\n",
    "plt.ylim(-1.04, 1.04)\n",
    "plt.xlim(-1.04, 1.04)\n",
    "meshgrid_colors = meshgrid_colors.reshape(bbxx.shape)\n",
    "plt.pcolormesh(bbxx, bbyy, meshgrid_colors, cmap=cmap, alpha=0.36)\n",
    "\n",
    "plt.scatter(\n",
    "    train_x[np.where(train_y[:] == 0), 0], train_x[np.where(train_y[:] == 0), 1],\n",
    "    marker=\"o\", color=\"#4863A0\", edgecolors=\"k\", linewidths=0.64, label=\"A train\")\n",
    "\n",
    "plt.scatter(\n",
    "    train_x[np.where(train_y[:] == 1), 0], train_x[np.where(train_y[:] == 1), 1],\n",
    "    marker=\"o\", color=\"#EE9A4D\", edgecolors=\"k\", linewidths=0.64, label=\"B train\")\n",
    "\n",
    "plt.scatter(\n",
    "    test_x[np.where(test_y[:] == 0), 0], test_x[np.where(test_y[:] == 0), 1],\n",
    "    marker=\"s\", color=\"#4863A0\", edgecolors=\"k\", linewidths=0.64, label=\"A test\")\n",
    "\n",
    "plt.scatter(\n",
    "    test_x[np.where(test_y[:] == 1), 0], test_x[np.where(test_y[:] == 1), 1],\n",
    "    marker=\"s\", color=\"#EE9A4D\", edgecolors=\"k\", linewidths=0.64, label=\"B test\")\n",
    "\n",
    "plt.legend(bbox_to_anchor=(1.05,1), loc=\"upper left\", borderaxespad=0.0)\n",
    "plt.title(\"Moonshape predict\")\n",
    "plt.grid(False)\n",
    "plt.show()\n",
    "\n",
    "print(f'QSVM test score: {q_score}')\n",
    "\n",
    "meshgrid_time2 = time()\n",
    "print(\"Cost time: {:3f} s\".format(meshgrid_time2-meshgrid_time1))"
   ]
  }
 ],
 "metadata": {
  "hide_input": false,
  "interpreter": {
   "hash": "73edad4db5a9f1ced759eded5187e19ba30057983a74070309538b6d2bc8cc52"
  },
  "kernelspec": {
   "display_name": "Python 3 (ipykernel)",
   "language": "python",
   "name": "python3"
  },
  "language_info": {
   "codemirror_mode": {
    "name": "ipython",
    "version": 3
   },
   "file_extension": ".py",
   "mimetype": "text/x-python",
   "name": "python",
   "nbconvert_exporter": "python",
   "pygments_lexer": "ipython3",
   "version": "3.9.12"
  }
 },
 "nbformat": 4,
 "nbformat_minor": 2
}
